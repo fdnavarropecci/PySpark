{
 "cells": [
  {
   "cell_type": "markdown",
   "metadata": {},
   "source": [
    "# ¿Por qué Python?"
   ]
  },
  {
   "cell_type": "markdown",
   "metadata": {},
   "source": [
    "![logo](https://www.python.org/static/community_logos/python-logo-inkscape.svg)"
   ]
  },
  {
   "cell_type": "markdown",
   "metadata": {},
   "source": [
    "* Proposito Geneal\n",
    "* Open Source\n",
    "* Sintaxis clara (código legible)\n",
    "* Gran acogida en la comunidad Data Scientist (https://pydata.org/ , https://www.scipy.org/)\n",
    "* Buen soporte y aceptación en las tecnologías bigdata (sobre todo con Spark)\n",
    "\n",
    "<br>\n",
    "\n",
    "### Principales lenguajes para un Data Scientist:\n",
    "\n",
    "![](./img/encuesta.png)\n",
    "<center>(https://insights.stackoverflow.com/survey/2016#top-tech-stacks-per-occupation)</center>\n",
    "<center>(Más nueva: https://insights.stackoverflow.com/survey/2019#technology)</center>"
   ]
  },
  {
   "cell_type": "markdown",
   "metadata": {},
   "source": [
    "<br><br>\n",
    "# ¿Cómo instalo Python?"
   ]
  },
  {
   "cell_type": "markdown",
   "metadata": {},
   "source": [
    "Python es *Open Source* y esta disponible para las principales plataformas (Windows, MacOSX, Linux, RaspberryPI) se puede instalar desde https://www.python.org/downloads/, también esta disponible en los principales repositorios de linux."
   ]
  },
  {
   "cell_type": "markdown",
   "metadata": {},
   "source": [
    "## Anaconda Distribution"
   ]
  },
  {
   "cell_type": "markdown",
   "metadata": {},
   "source": [
    "![](img/Anaconda-Distribution-Diagram.png)\n",
    "<center>(https://www.anaconda.com/distribution/)</center>"
   ]
  },
  {
   "cell_type": "markdown",
   "metadata": {},
   "source": [
    "Anaconda es una distribución de python que nos facilita mucho el trabajo con python y vamos a usarla en este curso"
   ]
  },
  {
   "cell_type": "markdown",
   "metadata": {},
   "source": [
    "### ¿Python 2 o Python 3?\n",
    "\n",
    "Existen dos versiones estables de Python, la versión *legacy* Python 2.7 y la versión en desarrollo Python 3.X. En el curso vamos a usar **Python 3** ya que Python 2.7 dejará de estar mantenida en 2020: https://pythonclock.org/.\n",
    "\n",
    "Para más información se puede consultar: https://wiki.python.org/moin/Python2orPython3"
   ]
  },
  {
   "cell_type": "markdown",
   "metadata": {},
   "source": [
    "<br><br>\n",
    "# ¿Dónde trabajaremos?"
   ]
  },
  {
   "cell_type": "markdown",
   "metadata": {},
   "source": [
    "Para utilizar Python solo necesitamos una consola de comandos:"
   ]
  },
  {
   "cell_type": "code",
   "execution_count": null,
   "metadata": {},
   "outputs": [],
   "source": [
    "!python -c 'print(\"Hola alumnos!\")'"
   ]
  },
  {
   "cell_type": "markdown",
   "metadata": {},
   "source": [
    "Pero esta forma es poco amigable, lo normal es trabajar con un IDE (*Integrated Development Environment*), existen multitud:\n",
    "\n",
    "* PyCharm\n",
    "* Jupyter\n",
    "* Spyder\n",
    "* Atom\n",
    "* ...\n",
    "\n",
    "Todos de ellos pueden ser buenas opciones, es algo muy objetivo. Durante el curso vamos a trabajar con Jupyter porque al ser 100% web nos facilitará el trabajo en el cluster."
   ]
  },
  {
   "cell_type": "markdown",
   "metadata": {},
   "source": [
    "![](./img/jupyter-logo.png)"
   ]
  },
  {
   "cell_type": "code",
   "execution_count": null,
   "metadata": {},
   "outputs": [],
   "source": [
    "print(\"Hola Alumnos\")"
   ]
  },
  {
   "cell_type": "code",
   "execution_count": null,
   "metadata": {},
   "outputs": [],
   "source": [
    "1+1"
   ]
  },
  {
   "cell_type": "markdown",
   "metadata": {},
   "source": [
    "<br><br>\n",
    "# Documentación Python para el Curso"
   ]
  },
  {
   "cell_type": "markdown",
   "metadata": {},
   "source": [
    "![](img/edx_1.png)\n",
    "<center><a href=\"https://www.edx.org/es/course/introduction-python-absolute-beginner-microsoft-dev236x-0\">https://www.edx.org/es/course/introduction-python-absolute-beginner-microsoft-dev236x-0</a></center>\n",
    "<br><br>"
   ]
  },
  {
   "cell_type": "markdown",
   "metadata": {},
   "source": [
    "![](img/edx_2.png)\n",
    "<center><a href=\"https://www.edx.org/es/course/introduction-python-fundamentals-microsoft-dev274x-0\">https://www.edx.org/es/course/introduction-python-fundamentals-microsoft-dev274x-0</a></center>\n",
    "<br><br>"
   ]
  },
  {
   "cell_type": "markdown",
   "metadata": {},
   "source": [
    "![](https://jakevdp.github.io/PythonDataScienceHandbook/figures/PDSH-cover.png)\n",
    "<center><a href=\"https://jakevdp.github.io/PythonDataScienceHandbook/\">https://jakevdp.github.io/PythonDataScienceHandbook/</a></center>\n",
    "<br><br>"
   ]
  },
  {
   "cell_type": "markdown",
   "metadata": {},
   "source": [
    "<br><br>\n",
    "# Para terminar..."
   ]
  },
  {
   "cell_type": "markdown",
   "metadata": {},
   "source": [
    "¡Programar te da superpoderes! Invierte tu tiempo en aprender a programar será una buena inversión"
   ]
  },
  {
   "cell_type": "markdown",
   "metadata": {},
   "source": [
    "![](img/MetodoGeekTareasRepetitivas.png)"
   ]
  }
 ],
 "metadata": {
  "kernelspec": {
   "display_name": "Python 3",
   "language": "python",
   "name": "python3"
  },
  "language_info": {
   "codemirror_mode": {
    "name": "ipython",
    "version": 3
   },
   "file_extension": ".py",
   "mimetype": "text/x-python",
   "name": "python",
   "nbconvert_exporter": "python",
   "pygments_lexer": "ipython3",
   "version": "3.7.6"
  }
 },
 "nbformat": 4,
 "nbformat_minor": 4
}
