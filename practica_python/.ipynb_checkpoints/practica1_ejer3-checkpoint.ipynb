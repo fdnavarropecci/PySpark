{
 "cells": [
  {
   "cell_type": "markdown",
   "metadata": {},
   "source": [
    "# Práctica Python - Tecnolgías de Procesamiento Big Data\n",
    "\n",
    "+ Autor: Felipe Navarro\n",
    "+ Fecha: 29/11/2020"
   ]
  },
  {
   "cell_type": "markdown",
   "metadata": {},
   "source": [
    "## Ejercicio 3"
   ]
  },
  {
   "cell_type": "code",
   "execution_count": 1,
   "metadata": {},
   "outputs": [],
   "source": [
    "import pandas as pd\n",
    "import numpy as np\n",
    "import scipy\n",
    "\n",
    "from scipy.optimize import minimize, LinearConstraint\n"
   ]
  },
  {
   "cell_type": "code",
   "execution_count": 2,
   "metadata": {},
   "outputs": [],
   "source": [
    "df_curvas_roi = pd.read_csv(\"datos_curvas_roi.csv\",header=0)"
   ]
  },
  {
   "cell_type": "code",
   "execution_count": 3,
   "metadata": {},
   "outputs": [
    {
     "data": {
      "text/html": [
       "<div>\n",
       "<style scoped>\n",
       "    .dataframe tbody tr th:only-of-type {\n",
       "        vertical-align: middle;\n",
       "    }\n",
       "\n",
       "    .dataframe tbody tr th {\n",
       "        vertical-align: top;\n",
       "    }\n",
       "\n",
       "    .dataframe thead th {\n",
       "        text-align: right;\n",
       "    }\n",
       "</style>\n",
       "<table border=\"1\" class=\"dataframe\">\n",
       "  <thead>\n",
       "    <tr style=\"text-align: right;\">\n",
       "      <th></th>\n",
       "      <th>MEDIO</th>\n",
       "      <th>A</th>\n",
       "      <th>B</th>\n",
       "      <th>MIN</th>\n",
       "      <th>MAX</th>\n",
       "      <th>decay</th>\n",
       "    </tr>\n",
       "  </thead>\n",
       "  <tbody>\n",
       "    <tr>\n",
       "      <th>0</th>\n",
       "      <td>Televisión</td>\n",
       "      <td>7.091115</td>\n",
       "      <td>270163.85990</td>\n",
       "      <td>183359.57680</td>\n",
       "      <td>421967.23580</td>\n",
       "      <td>0.40</td>\n",
       "    </tr>\n",
       "    <tr>\n",
       "      <th>1</th>\n",
       "      <td>Online</td>\n",
       "      <td>6.571585</td>\n",
       "      <td>62164.76381</td>\n",
       "      <td>38488.03122</td>\n",
       "      <td>110009.09710</td>\n",
       "      <td>0.20</td>\n",
       "    </tr>\n",
       "    <tr>\n",
       "      <th>2</th>\n",
       "      <td>Prensa</td>\n",
       "      <td>6.779517</td>\n",
       "      <td>105752.53950</td>\n",
       "      <td>71820.20725</td>\n",
       "      <td>165047.65840</td>\n",
       "      <td>0.20</td>\n",
       "    </tr>\n",
       "    <tr>\n",
       "      <th>3</th>\n",
       "      <td>Radio</td>\n",
       "      <td>6.182705</td>\n",
       "      <td>64579.77595</td>\n",
       "      <td>43419.72799</td>\n",
       "      <td>102131.35590</td>\n",
       "      <td>0.15</td>\n",
       "    </tr>\n",
       "    <tr>\n",
       "      <th>4</th>\n",
       "      <td>Exterior</td>\n",
       "      <td>4.168857</td>\n",
       "      <td>26693.37017</td>\n",
       "      <td>20854.44233</td>\n",
       "      <td>34971.98656</td>\n",
       "      <td>0.30</td>\n",
       "    </tr>\n",
       "  </tbody>\n",
       "</table>\n",
       "</div>"
      ],
      "text/plain": [
       "        MEDIO         A             B           MIN           MAX  decay\n",
       "0  Televisión  7.091115  270163.85990  183359.57680  421967.23580   0.40\n",
       "1      Online  6.571585   62164.76381   38488.03122  110009.09710   0.20\n",
       "2      Prensa  6.779517  105752.53950   71820.20725  165047.65840   0.20\n",
       "3       Radio  6.182705   64579.77595   43419.72799  102131.35590   0.15\n",
       "4    Exterior  4.168857   26693.37017   20854.44233   34971.98656   0.30"
      ]
     },
     "execution_count": 3,
     "metadata": {},
     "output_type": "execute_result"
    }
   ],
   "source": [
    "df_curvas_roi.head()"
   ]
  },
  {
   "cell_type": "code",
   "execution_count": 4,
   "metadata": {},
   "outputs": [],
   "source": [
    "\n",
    "x_estudio =np.array([\n",
    "    [183359.57680,183359.57680,183359.57680,183359.57680,183359.57680,183359.57680,183359.57680,183359.57680,183359.57680,183359.57680],\n",
    "    [38488.03122,38488.03122,38488.03122,38488.03122,38488.03122,38488.03122,38488.03122,38488.03122,38488.03122,38488.03122],\n",
    "    [71820.20725,71820.20725,71820.20725,71820.20725,71820.20725,71820.20725,71820.20725,71820.20725,71820.20725,71820.20725],\n",
    "    [43419.72799,43419.72799,43419.72799,43419.72799,43419.72799,43419.72799,43419.72799,43419.72799,43419.72799,43419.72799],\n",
    "    [20854.44233,20854.44233,20854.44233,20854.44233,20854.44233,20854.44233,20854.44233,20854.44233,20854.44233,20854.44233]\n",
    "    \n",
    "])"
   ]
  },
  {
   "cell_type": "code",
   "execution_count": 5,
   "metadata": {},
   "outputs": [],
   "source": [
    "# Vector de inversión ejemplo, para validar la función\n",
    "x_ej = np.array([\n",
    "    [183359.57680,183359.57680,183359.57680,183359.57680],\n",
    "    [38488.03122,38488.03122,38488.03122,38488.03122],\n",
    "    [71820.20725,71820.20725,71820.20725,71820.20725],\n",
    "    [43419.72799,43419.72799,43419.72799,43419.72799],\n",
    "    [20854.44233,20854.44233,20854.44233,20854.44233]]\n",
    ")"
   ]
  },
  {
   "cell_type": "code",
   "execution_count": 6,
   "metadata": {},
   "outputs": [],
   "source": [
    "def efecto_adstock(x,decay):\n",
    "    \"\"\"\n",
    "    Función que recibe un vector de inversión en distintos medios y un vector de decays para cada medio y calcula\n",
    "    la inversión ajustada por el efecto adstock\n",
    "    \n",
    "    Params:\n",
    "        x (array): vector de inversiones en cada medio\n",
    "        decay (array): vector de factor decay para cada medio\n",
    "        \n",
    "    Returns:\n",
    "        x_hat (array): vector de inversión para cada medio, ajustado con el efecto adstock\n",
    "    \n",
    "    \"\"\"\n",
    "    x_hat = []\n",
    "    \n",
    "    for i in range(len(x)):\n",
    "        y_hat = []\n",
    "        for j in range(len(x[i])):\n",
    "            if j==0:\n",
    "                y_hat.append(x[i][j])\n",
    "            else:    \n",
    "                y_hat.append(y_hat[j-1]*decay[i]+x[i][j])\n",
    "        x_hat.append(y_hat)\n",
    "        \n",
    "    return x_hat"
   ]
  },
  {
   "cell_type": "code",
   "execution_count": 7,
   "metadata": {},
   "outputs": [],
   "source": [
    "vect_decay = np.array(df_curvas_roi[\"decay\"])"
   ]
  },
  {
   "cell_type": "code",
   "execution_count": 8,
   "metadata": {},
   "outputs": [],
   "source": [
    "x_hat = efecto_adstock(x_ej,vect_decay)"
   ]
  },
  {
   "cell_type": "code",
   "execution_count": 9,
   "metadata": {},
   "outputs": [
    {
     "data": {
      "text/plain": [
       "[[183359.5768, 256703.40752, 286040.939808, 297775.9527232],\n",
       " [38488.03122, 46185.637464, 47725.158712799996, 48033.06296256],\n",
       " [71820.20725, 86184.24870000001, 89057.05699000001, 89631.618648],\n",
       " [43419.72799, 49932.6871885, 50909.631068275, 51056.17265024125],\n",
       " [20854.44233, 27110.775029000004, 28987.674838700004, 29550.744781610003]]"
      ]
     },
     "execution_count": 9,
     "metadata": {},
     "output_type": "execute_result"
    }
   ],
   "source": [
    "x_hat"
   ]
  },
  {
   "cell_type": "markdown",
   "metadata": {},
   "source": [
    "Una vez validada la función que calcula el efecto adstock, se pasa a definir la función que calcula el aporte total"
   ]
  },
  {
   "cell_type": "code",
   "execution_count": 10,
   "metadata": {},
   "outputs": [],
   "source": [
    "def aportes_totales(x):\n",
    "    \"\"\"\n",
    "    Función para calcular los aportes totales utilizando el efecto adstock y las curvas de aporte\n",
    "    \n",
    "    Params:\n",
    "        x (array): vector de inversiones en cada medio\n",
    "        \n",
    "    Returns:\n",
    "        aporte_total (float): Aporte total de toda la inversión\n",
    "    \"\"\"\n",
    "    x_hat = efecto_adstock(x,vect_decay)\n",
    "    aporte_total = []\n",
    "    for i in range(len(x_hat)):\n",
    "        a = df_curvas_roi[\"A\"][i]\n",
    "        b = df_curvas_roi[\"B\"][i]\n",
    "        f_x = 0\n",
    "        for j in range(len(x_hat[i])):\n",
    "            f_x += np.exp(a-(b/x_hat[i][j]))\n",
    "        aporte_total.append(f_x)\n",
    "        \n",
    "    aporte_total = np.sum(aporte_total)\n",
    "    return aporte_total"
   ]
  },
  {
   "cell_type": "code",
   "execution_count": 12,
   "metadata": {},
   "outputs": [],
   "source": [
    "aporte_test = aportes_totales(x_ej)"
   ]
  },
  {
   "cell_type": "code",
   "execution_count": 13,
   "metadata": {},
   "outputs": [
    {
     "data": {
      "text/plain": [
       "3972.248270860605"
      ]
     },
     "execution_count": 13,
     "metadata": {},
     "output_type": "execute_result"
    }
   ],
   "source": [
    "aporte_test"
   ]
  },
  {
   "cell_type": "markdown",
   "metadata": {},
   "source": [
    "Una vez validada esta segunda función, se calcula con los datos para el estudio de 10 semanas"
   ]
  },
  {
   "cell_type": "code",
   "execution_count": 14,
   "metadata": {},
   "outputs": [],
   "source": [
    "aportes_estudio = aportes_totales(x_estudio)"
   ]
  },
  {
   "cell_type": "code",
   "execution_count": 15,
   "metadata": {},
   "outputs": [
    {
     "data": {
      "text/plain": [
       "10723.620391631033"
      ]
     },
     "execution_count": 15,
     "metadata": {},
     "output_type": "execute_result"
    }
   ],
   "source": [
    "aportes_estudio"
   ]
  },
  {
   "cell_type": "markdown",
   "metadata": {},
   "source": [
    "## Parte de optimización"
   ]
  },
  {
   "cell_type": "markdown",
   "metadata": {},
   "source": [
    "Para esta segunda parte, he tenido que modificar la función aportes_totales para pasarle un vector y después dividirlo en sub-vectores para cada medio"
   ]
  },
  {
   "cell_type": "markdown",
   "metadata": {},
   "source": [
    "No consigo que la solución converja. Probablemente haya definido mal los constraints. No obstante, dejo el código que he probado"
   ]
  },
  {
   "cell_type": "code",
   "execution_count": 16,
   "metadata": {},
   "outputs": [],
   "source": [
    "def chunks(lst, n):\n",
    "    matrix = [list(t) for t in zip(*[iter(lst)]*n)]\n",
    "    return matrix"
   ]
  },
  {
   "cell_type": "code",
   "execution_count": 17,
   "metadata": {},
   "outputs": [],
   "source": [
    "def aportes_totales(x):\n",
    "    \"\"\"\n",
    "    Función para calcular los aportes totales utilizando el efecto adstock y las curvas de aporte\n",
    "    \n",
    "    Params:\n",
    "        x (array): vector de inversiones en cada medio\n",
    "        \n",
    "    Returns:\n",
    "        aporte_total (float): Aporte total de toda la inversión\n",
    "    \"\"\"\n",
    "    x = chunks(x, 10)\n",
    "    x_hat = efecto_adstock(x,vect_decay)\n",
    "    aporte_total = []\n",
    "    \n",
    "    for i in range(len(x_hat)):\n",
    "        a = df_curvas_roi[\"A\"][i]\n",
    "        b = df_curvas_roi[\"B\"][i]\n",
    "        f_x = 0\n",
    "        for j in range(len(x_hat[i])):\n",
    "            f_x += np.exp(a-(b/x_hat[i][j]))\n",
    "        aporte_total.append(f_x)\n",
    "        \n",
    "    aporte_total = np.sum(aporte_total)\n",
    "    return aporte_total"
   ]
  },
  {
   "cell_type": "code",
   "execution_count": 31,
   "metadata": {},
   "outputs": [],
   "source": [
    "# Vector de inversión \n",
    "x0 =np.array(\n",
    "    [183359.57680,183359.57680,183359.57680,183359.57680,183359.57680,183359.57680,183359.57680,183359.57680,183359.57680,183359.57680,\n",
    "    38488.03122,38488.03122,38488.03122,38488.03122,38488.03122,38488.03122,38488.03122,38488.03122,38488.03122,38488.03122,\n",
    "    71820.20725,71820.20725,71820.20725,71820.20725,71820.20725,71820.20725,71820.20725,71820.20725,71820.20725,71820.20725,\n",
    "    43419.72799,43419.72799,43419.72799,43419.72799,43419.72799,43419.72799,43419.72799,43419.72799,43419.72799,43419.72799,\n",
    "    20854.44233,20854.44233,20854.44233,20854.44233,20854.44233,20854.44233,20854.44233,20854.44233,20854.44233,20854.44233])"
   ]
  },
  {
   "cell_type": "code",
   "execution_count": 20,
   "metadata": {},
   "outputs": [],
   "source": [
    "a = [a for a in df_curvas_roi[\"A\"]]"
   ]
  },
  {
   "cell_type": "code",
   "execution_count": 21,
   "metadata": {},
   "outputs": [],
   "source": [
    "b = [b for b in df_curvas_roi[\"B\"]]"
   ]
  },
  {
   "cell_type": "code",
   "execution_count": 22,
   "metadata": {},
   "outputs": [],
   "source": [
    "limites = zip(a,b)"
   ]
  },
  {
   "cell_type": "code",
   "execution_count": null,
   "metadata": {},
   "outputs": [],
   "source": [
    "bounds = [i for i in limites]"
   ]
  },
  {
   "cell_type": "code",
   "execution_count": 32,
   "metadata": {},
   "outputs": [],
   "source": [
    "bounds = [\n",
    "    (7.091114787, 270163.8599),(7.091114787, 270163.8599),(7.091114787, 270163.8599),(7.091114787, 270163.8599),(7.091114787, 270163.8599),(7.091114787, 270163.8599),(7.091114787, 270163.8599),(7.091114787, 270163.8599),(7.091114787, 270163.8599),(7.091114787, 270163.8599),\n",
    "     (6.571585223, 62164.763810000004),(6.571585223, 62164.763810000004),(6.571585223, 62164.763810000004),(6.571585223, 62164.763810000004),(6.571585223, 62164.763810000004),(6.571585223, 62164.763810000004),(6.571585223, 62164.763810000004),(6.571585223, 62164.763810000004),(6.571585223, 62164.763810000004),(6.571585223, 62164.763810000004),\n",
    "     (6.779516794, 105752.5395),(6.779516794, 105752.5395),(6.779516794, 105752.5395),(6.779516794, 105752.5395),(6.779516794, 105752.5395),(6.779516794, 105752.5395),(6.779516794, 105752.5395),(6.779516794, 105752.5395),(6.779516794, 105752.5395),(6.779516794, 105752.5395),\n",
    "     (6.18270522, 64579.77595),(6.18270522, 64579.77595),(6.18270522, 64579.77595),(6.18270522, 64579.77595),(6.18270522, 64579.77595),(6.18270522, 64579.77595),(6.18270522, 64579.77595),(6.18270522, 64579.77595),(6.18270522, 64579.77595),(6.18270522, 64579.77595),\n",
    "     (4.168857373, 26693.37017),(4.168857373, 26693.37017),(4.168857373, 26693.37017),(4.168857373, 26693.37017),(4.168857373, 26693.37017),(4.168857373, 26693.37017),(4.168857373, 26693.37017),(4.168857373, 26693.37017),(4.168857373, 26693.37017),(4.168857373, 26693.37017)\n",
    "]\n",
    "\n"
   ]
  },
  {
   "cell_type": "code",
   "execution_count": 33,
   "metadata": {},
   "outputs": [],
   "source": [
    "budget = 6000000"
   ]
  },
  {
   "cell_type": "code",
   "execution_count": 36,
   "metadata": {},
   "outputs": [],
   "source": [
    "cons = ({'type':'ineq', 'fun':lambda x: np.sum(x)-budget}) "
   ]
  },
  {
   "cell_type": "code",
   "execution_count": 37,
   "metadata": {},
   "outputs": [
    {
     "data": {
      "text/plain": [
       "     fun: 15610.429801916158\n",
       "     jac: array([0.00231934, 0.00170898, 0.00158691, 0.00146484, 0.00146484,\n",
       "       0.00146484, 0.00146484, 0.00134277, 0.0012207 , 0.00085449,\n",
       "       0.00512695, 0.00439453, 0.00427246, 0.00427246, 0.00427246,\n",
       "       0.00415039, 0.00415039, 0.00415039, 0.00402832, 0.0032959 ,\n",
       "       0.00366211, 0.00305176, 0.00292969, 0.00305176, 0.00292969,\n",
       "       0.00292969, 0.00305176, 0.00305176, 0.00292969, 0.00244141,\n",
       "       0.00317383, 0.00280762, 0.00268555, 0.00268555, 0.00268555,\n",
       "       0.00268555, 0.00268555, 0.00268555, 0.00268555, 0.00231934,\n",
       "       0.00109863, 0.00085449, 0.00085449, 0.00085449, 0.00085449,\n",
       "       0.00085449, 0.00073242, 0.00073242, 0.00073242, 0.00061035])\n",
       " message: 'Positive directional derivative for linesearch'\n",
       "    nfev: 30924\n",
       "     nit: 620\n",
       "    njev: 604\n",
       "  status: 8\n",
       " success: False\n",
       "       x: array([270163.8599 , 270163.8599 , 270163.8599 , 270163.8599 ,\n",
       "       270163.8599 , 270163.8599 , 270163.8599 , 270163.8599 ,\n",
       "       270163.8599 , 270163.8599 ,  62164.76381,  62164.76381,\n",
       "        62164.76381,  62164.76381,  62164.76381,  62164.76381,\n",
       "        62164.76381,  62164.76381,  62164.76381,  62164.76381,\n",
       "       105752.5395 , 105752.5395 , 105752.5395 , 105752.5395 ,\n",
       "       105752.5395 , 105752.5395 , 105752.5395 , 105752.5395 ,\n",
       "       105752.5395 , 105752.5395 ,  64579.77595,  64579.77595,\n",
       "        64579.77595,  64579.77595,  64579.77595,  64579.77595,\n",
       "        64579.77595,  64579.77595,  64579.77595,  64579.77595,\n",
       "        26693.37017,  26693.37017,  26693.37017,  26693.37017,\n",
       "        26693.37017,  26693.37017,  26693.37017,  26693.37017,\n",
       "        26693.37017,  26693.37017])"
      ]
     },
     "execution_count": 37,
     "metadata": {},
     "output_type": "execute_result"
    }
   ],
   "source": [
    "sol = minimize(\n",
    "\n",
    "    aportes_totales,\n",
    "    x0,\n",
    "    method='SLSQP',\n",
    "    constraints=cons,\n",
    "    bounds = bounds,\n",
    "    options = {'maxiter' : 1000000}\n",
    "\n",
    ")\n",
    "sol\n",
    "\n"
   ]
  },
  {
   "cell_type": "code",
   "execution_count": null,
   "metadata": {},
   "outputs": [],
   "source": []
  }
 ],
 "metadata": {
  "kernelspec": {
   "display_name": "Python 3",
   "language": "python",
   "name": "python3"
  },
  "language_info": {
   "codemirror_mode": {
    "name": "ipython",
    "version": 3
   },
   "file_extension": ".py",
   "mimetype": "text/x-python",
   "name": "python",
   "nbconvert_exporter": "python",
   "pygments_lexer": "ipython3",
   "version": "3.8.3"
  }
 },
 "nbformat": 4,
 "nbformat_minor": 4
}
