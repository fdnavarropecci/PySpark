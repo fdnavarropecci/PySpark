{
 "cells": [
  {
   "cell_type": "markdown",
   "metadata": {},
   "source": [
    "# Práctica Python - Tecnolgías de Procesamiento Big Data\n",
    "\n",
    "+ Autor: Felipe Navarro\n",
    "+ Fecha: 29/11/2020"
   ]
  },
  {
   "cell_type": "markdown",
   "metadata": {},
   "source": [
    "## Ejercicio 2"
   ]
  },
  {
   "cell_type": "code",
   "execution_count": 2,
   "metadata": {},
   "outputs": [],
   "source": [
    "import pandas as pd\n",
    "import os\n",
    "import unidecode\n",
    "import re\n",
    "\n",
    "from functools import reduce"
   ]
  },
  {
   "cell_type": "code",
   "execution_count": 58,
   "metadata": {},
   "outputs": [],
   "source": [
    "#conda activate tecnologias"
   ]
  },
  {
   "cell_type": "markdown",
   "metadata": {},
   "source": [
    "Cargamos los datos"
   ]
  },
  {
   "cell_type": "code",
   "execution_count": 3,
   "metadata": {},
   "outputs": [],
   "source": [
    "folder = \"ine_activos\""
   ]
  },
  {
   "cell_type": "code",
   "execution_count": 4,
   "metadata": {},
   "outputs": [],
   "source": [
    "headers = os.listdir(folder)\n",
    "headers = [os.path.splitext(each)[0] for each in headers]"
   ]
  },
  {
   "cell_type": "code",
   "execution_count": 5,
   "metadata": {},
   "outputs": [],
   "source": [
    "headers = [unidecode.unidecode(bytes(x,'UTF-8').decode('utf8',\"strict\")) for x in headers]"
   ]
  },
  {
   "cell_type": "code",
   "execution_count": 6,
   "metadata": {},
   "outputs": [],
   "source": [
    "tablas_ine = map(lambda x: pd.read_csv(os.path.join(folder,x),header=0),os.listdir(folder))"
   ]
  },
  {
   "cell_type": "code",
   "execution_count": 7,
   "metadata": {},
   "outputs": [],
   "source": [
    "ind = 0\n",
    "for item in tablas_ine:\n",
    "    if ind==0:\n",
    "        df_ine = item\n",
    "        df_ine=df_ine.rename(columns={\"valor\":headers[ind]})\n",
    "        ind +=1\n",
    "    else:\n",
    "        df_ine = df_ine.merge(item, on=\"cod_provincia\",how=\"left\")\n",
    "        df_ine=df_ine.rename(columns={\"valor_x\":headers[ind-1],\"valor_y\":headers[ind],\"valor\":headers[ind]})\n",
    "        ind+=1\n"
   ]
  },
  {
   "cell_type": "code",
   "execution_count": 8,
   "metadata": {},
   "outputs": [
    {
     "data": {
      "text/html": [
       "<div>\n",
       "<style scoped>\n",
       "    .dataframe tbody tr th:only-of-type {\n",
       "        vertical-align: middle;\n",
       "    }\n",
       "\n",
       "    .dataframe tbody tr th {\n",
       "        vertical-align: top;\n",
       "    }\n",
       "\n",
       "    .dataframe thead th {\n",
       "        text-align: right;\n",
       "    }\n",
       "</style>\n",
       "<table border=\"1\" class=\"dataframe\">\n",
       "  <thead>\n",
       "    <tr style=\"text-align: right;\">\n",
       "      <th></th>\n",
       "      <th>cod_provincia</th>\n",
       "      <th>2008T1_Agricultura</th>\n",
       "      <th>2008T1_Construccion</th>\n",
       "      <th>2008T1_Industria</th>\n",
       "      <th>2008T1_ParadosActivos</th>\n",
       "      <th>2008T1_Servicios</th>\n",
       "      <th>2008T2_Agricultura</th>\n",
       "      <th>2008T2_Construccion</th>\n",
       "      <th>2008T2_Industria</th>\n",
       "      <th>2008T2_ParadosActivos</th>\n",
       "      <th>...</th>\n",
       "      <th>2017T1_Agricultura</th>\n",
       "      <th>2017T1_Construccion</th>\n",
       "      <th>2017T1_Industria</th>\n",
       "      <th>2017T1_ParadosActivos</th>\n",
       "      <th>2017T1_Servicios</th>\n",
       "      <th>2017T2_Agricultura</th>\n",
       "      <th>2017T2_Construccion</th>\n",
       "      <th>2017T2_Industria</th>\n",
       "      <th>2017T2_ParadosActivos</th>\n",
       "      <th>2017T2_Servicios</th>\n",
       "    </tr>\n",
       "  </thead>\n",
       "  <tbody>\n",
       "    <tr>\n",
       "      <th>0</th>\n",
       "      <td>2</td>\n",
       "      <td>15.4</td>\n",
       "      <td>23.4</td>\n",
       "      <td>30.8</td>\n",
       "      <td>7.2</td>\n",
       "      <td>114.1</td>\n",
       "      <td>12.2</td>\n",
       "      <td>23.5</td>\n",
       "      <td>32.9</td>\n",
       "      <td>6.7</td>\n",
       "      <td>...</td>\n",
       "      <td>14.2</td>\n",
       "      <td>9.2</td>\n",
       "      <td>24.2</td>\n",
       "      <td>22.9</td>\n",
       "      <td>116.9</td>\n",
       "      <td>13.8</td>\n",
       "      <td>11.0</td>\n",
       "      <td>23.1</td>\n",
       "      <td>25.7</td>\n",
       "      <td>118.1</td>\n",
       "    </tr>\n",
       "    <tr>\n",
       "      <th>1</th>\n",
       "      <td>3</td>\n",
       "      <td>21.5</td>\n",
       "      <td>134.9</td>\n",
       "      <td>157.5</td>\n",
       "      <td>32.7</td>\n",
       "      <td>536.8</td>\n",
       "      <td>27.8</td>\n",
       "      <td>123.3</td>\n",
       "      <td>149.9</td>\n",
       "      <td>40.3</td>\n",
       "      <td>...</td>\n",
       "      <td>21.9</td>\n",
       "      <td>56.6</td>\n",
       "      <td>144.7</td>\n",
       "      <td>89.0</td>\n",
       "      <td>593.1</td>\n",
       "      <td>24.7</td>\n",
       "      <td>59.4</td>\n",
       "      <td>152.0</td>\n",
       "      <td>83.3</td>\n",
       "      <td>587.3</td>\n",
       "    </tr>\n",
       "    <tr>\n",
       "      <th>2</th>\n",
       "      <td>4</td>\n",
       "      <td>55.4</td>\n",
       "      <td>66.5</td>\n",
       "      <td>25.1</td>\n",
       "      <td>11.4</td>\n",
       "      <td>176.3</td>\n",
       "      <td>48.9</td>\n",
       "      <td>52.0</td>\n",
       "      <td>24.1</td>\n",
       "      <td>13.7</td>\n",
       "      <td>...</td>\n",
       "      <td>93.5</td>\n",
       "      <td>18.0</td>\n",
       "      <td>16.6</td>\n",
       "      <td>37.5</td>\n",
       "      <td>181.6</td>\n",
       "      <td>92.2</td>\n",
       "      <td>15.1</td>\n",
       "      <td>19.4</td>\n",
       "      <td>32.8</td>\n",
       "      <td>185.6</td>\n",
       "    </tr>\n",
       "    <tr>\n",
       "      <th>3</th>\n",
       "      <td>1</td>\n",
       "      <td>2.5</td>\n",
       "      <td>15.0</td>\n",
       "      <td>51.1</td>\n",
       "      <td>2.3</td>\n",
       "      <td>87.2</td>\n",
       "      <td>2.4</td>\n",
       "      <td>12.9</td>\n",
       "      <td>50.9</td>\n",
       "      <td>2.7</td>\n",
       "      <td>...</td>\n",
       "      <td>4.5</td>\n",
       "      <td>5.2</td>\n",
       "      <td>41.4</td>\n",
       "      <td>11.5</td>\n",
       "      <td>89.3</td>\n",
       "      <td>3.8</td>\n",
       "      <td>6.8</td>\n",
       "      <td>41.2</td>\n",
       "      <td>11.7</td>\n",
       "      <td>89.3</td>\n",
       "    </tr>\n",
       "    <tr>\n",
       "      <th>4</th>\n",
       "      <td>33</td>\n",
       "      <td>21.4</td>\n",
       "      <td>55.9</td>\n",
       "      <td>72.7</td>\n",
       "      <td>20.2</td>\n",
       "      <td>320.0</td>\n",
       "      <td>22.2</td>\n",
       "      <td>60.3</td>\n",
       "      <td>69.3</td>\n",
       "      <td>15.5</td>\n",
       "      <td>...</td>\n",
       "      <td>13.6</td>\n",
       "      <td>23.3</td>\n",
       "      <td>64.2</td>\n",
       "      <td>37.1</td>\n",
       "      <td>321.3</td>\n",
       "      <td>15.7</td>\n",
       "      <td>26.0</td>\n",
       "      <td>62.9</td>\n",
       "      <td>35.4</td>\n",
       "      <td>321.5</td>\n",
       "    </tr>\n",
       "  </tbody>\n",
       "</table>\n",
       "<p>5 rows × 191 columns</p>\n",
       "</div>"
      ],
      "text/plain": [
       "   cod_provincia  2008T1_Agricultura  2008T1_Construccion  2008T1_Industria  \\\n",
       "0              2                15.4                 23.4              30.8   \n",
       "1              3                21.5                134.9             157.5   \n",
       "2              4                55.4                 66.5              25.1   \n",
       "3              1                 2.5                 15.0              51.1   \n",
       "4             33                21.4                 55.9              72.7   \n",
       "\n",
       "   2008T1_ParadosActivos  2008T1_Servicios  2008T2_Agricultura  \\\n",
       "0                    7.2             114.1                12.2   \n",
       "1                   32.7             536.8                27.8   \n",
       "2                   11.4             176.3                48.9   \n",
       "3                    2.3              87.2                 2.4   \n",
       "4                   20.2             320.0                22.2   \n",
       "\n",
       "   2008T2_Construccion  2008T2_Industria  2008T2_ParadosActivos  ...  \\\n",
       "0                 23.5              32.9                    6.7  ...   \n",
       "1                123.3             149.9                   40.3  ...   \n",
       "2                 52.0              24.1                   13.7  ...   \n",
       "3                 12.9              50.9                    2.7  ...   \n",
       "4                 60.3              69.3                   15.5  ...   \n",
       "\n",
       "   2017T1_Agricultura  2017T1_Construccion  2017T1_Industria  \\\n",
       "0                14.2                  9.2              24.2   \n",
       "1                21.9                 56.6             144.7   \n",
       "2                93.5                 18.0              16.6   \n",
       "3                 4.5                  5.2              41.4   \n",
       "4                13.6                 23.3              64.2   \n",
       "\n",
       "   2017T1_ParadosActivos  2017T1_Servicios  2017T2_Agricultura  \\\n",
       "0                   22.9             116.9                13.8   \n",
       "1                   89.0             593.1                24.7   \n",
       "2                   37.5             181.6                92.2   \n",
       "3                   11.5              89.3                 3.8   \n",
       "4                   37.1             321.3                15.7   \n",
       "\n",
       "   2017T2_Construccion  2017T2_Industria  2017T2_ParadosActivos  \\\n",
       "0                 11.0              23.1                   25.7   \n",
       "1                 59.4             152.0                   83.3   \n",
       "2                 15.1              19.4                   32.8   \n",
       "3                  6.8              41.2                   11.7   \n",
       "4                 26.0              62.9                   35.4   \n",
       "\n",
       "   2017T2_Servicios  \n",
       "0             118.1  \n",
       "1             587.3  \n",
       "2             185.6  \n",
       "3              89.3  \n",
       "4             321.5  \n",
       "\n",
       "[5 rows x 191 columns]"
      ]
     },
     "execution_count": 8,
     "metadata": {},
     "output_type": "execute_result"
    }
   ],
   "source": [
    "df_ine.head()"
   ]
  },
  {
   "cell_type": "code",
   "execution_count": 9,
   "metadata": {},
   "outputs": [
    {
     "data": {
      "text/plain": [
       "(52, 191)"
      ]
     },
     "execution_count": 9,
     "metadata": {},
     "output_type": "execute_result"
    }
   ],
   "source": [
    "df_ine.shape"
   ]
  },
  {
   "cell_type": "code",
   "execution_count": 10,
   "metadata": {},
   "outputs": [],
   "source": [
    "df_provincias = pd.read_json(\"provincias.json\")"
   ]
  },
  {
   "cell_type": "code",
   "execution_count": 11,
   "metadata": {},
   "outputs": [
    {
     "data": {
      "text/html": [
       "<div>\n",
       "<style scoped>\n",
       "    .dataframe tbody tr th:only-of-type {\n",
       "        vertical-align: middle;\n",
       "    }\n",
       "\n",
       "    .dataframe tbody tr th {\n",
       "        vertical-align: top;\n",
       "    }\n",
       "\n",
       "    .dataframe thead th {\n",
       "        text-align: right;\n",
       "    }\n",
       "</style>\n",
       "<table border=\"1\" class=\"dataframe\">\n",
       "  <thead>\n",
       "    <tr style=\"text-align: right;\">\n",
       "      <th></th>\n",
       "      <th>cod_provincia</th>\n",
       "      <th>ds_provincia</th>\n",
       "    </tr>\n",
       "  </thead>\n",
       "  <tbody>\n",
       "    <tr>\n",
       "      <th>0</th>\n",
       "      <td>2</td>\n",
       "      <td>Albacete</td>\n",
       "    </tr>\n",
       "    <tr>\n",
       "      <th>1</th>\n",
       "      <td>3</td>\n",
       "      <td>Alicante/Alacant</td>\n",
       "    </tr>\n",
       "    <tr>\n",
       "      <th>2</th>\n",
       "      <td>4</td>\n",
       "      <td>Almería</td>\n",
       "    </tr>\n",
       "    <tr>\n",
       "      <th>3</th>\n",
       "      <td>1</td>\n",
       "      <td>Araba/Álava</td>\n",
       "    </tr>\n",
       "    <tr>\n",
       "      <th>4</th>\n",
       "      <td>33</td>\n",
       "      <td>Asturias</td>\n",
       "    </tr>\n",
       "  </tbody>\n",
       "</table>\n",
       "</div>"
      ],
      "text/plain": [
       "   cod_provincia      ds_provincia\n",
       "0              2          Albacete\n",
       "1              3  Alicante/Alacant\n",
       "2              4           Almería\n",
       "3              1       Araba/Álava\n",
       "4             33          Asturias"
      ]
     },
     "execution_count": 11,
     "metadata": {},
     "output_type": "execute_result"
    }
   ],
   "source": [
    "df_provincias.head()"
   ]
  },
  {
   "cell_type": "markdown",
   "metadata": {},
   "source": [
    "Hacemos un join para unir los datos de los dos dataframes"
   ]
  },
  {
   "cell_type": "code",
   "execution_count": 12,
   "metadata": {},
   "outputs": [],
   "source": [
    "df_ine = df_provincias.merge(df_ine,on=\"cod_provincia\",how=\"inner\")"
   ]
  },
  {
   "cell_type": "code",
   "execution_count": 13,
   "metadata": {},
   "outputs": [
    {
     "data": {
      "text/html": [
       "<div>\n",
       "<style scoped>\n",
       "    .dataframe tbody tr th:only-of-type {\n",
       "        vertical-align: middle;\n",
       "    }\n",
       "\n",
       "    .dataframe tbody tr th {\n",
       "        vertical-align: top;\n",
       "    }\n",
       "\n",
       "    .dataframe thead th {\n",
       "        text-align: right;\n",
       "    }\n",
       "</style>\n",
       "<table border=\"1\" class=\"dataframe\">\n",
       "  <thead>\n",
       "    <tr style=\"text-align: right;\">\n",
       "      <th></th>\n",
       "      <th>cod_provincia</th>\n",
       "      <th>ds_provincia</th>\n",
       "      <th>2008T1_Agricultura</th>\n",
       "      <th>2008T1_Construccion</th>\n",
       "      <th>2008T1_Industria</th>\n",
       "      <th>2008T1_ParadosActivos</th>\n",
       "      <th>2008T1_Servicios</th>\n",
       "      <th>2008T2_Agricultura</th>\n",
       "      <th>2008T2_Construccion</th>\n",
       "      <th>2008T2_Industria</th>\n",
       "      <th>...</th>\n",
       "      <th>2017T1_Agricultura</th>\n",
       "      <th>2017T1_Construccion</th>\n",
       "      <th>2017T1_Industria</th>\n",
       "      <th>2017T1_ParadosActivos</th>\n",
       "      <th>2017T1_Servicios</th>\n",
       "      <th>2017T2_Agricultura</th>\n",
       "      <th>2017T2_Construccion</th>\n",
       "      <th>2017T2_Industria</th>\n",
       "      <th>2017T2_ParadosActivos</th>\n",
       "      <th>2017T2_Servicios</th>\n",
       "    </tr>\n",
       "  </thead>\n",
       "  <tbody>\n",
       "    <tr>\n",
       "      <th>0</th>\n",
       "      <td>2</td>\n",
       "      <td>Albacete</td>\n",
       "      <td>15.4</td>\n",
       "      <td>23.4</td>\n",
       "      <td>30.8</td>\n",
       "      <td>7.2</td>\n",
       "      <td>114.1</td>\n",
       "      <td>12.2</td>\n",
       "      <td>23.5</td>\n",
       "      <td>32.9</td>\n",
       "      <td>...</td>\n",
       "      <td>14.2</td>\n",
       "      <td>9.2</td>\n",
       "      <td>24.2</td>\n",
       "      <td>22.9</td>\n",
       "      <td>116.9</td>\n",
       "      <td>13.8</td>\n",
       "      <td>11.0</td>\n",
       "      <td>23.1</td>\n",
       "      <td>25.7</td>\n",
       "      <td>118.1</td>\n",
       "    </tr>\n",
       "    <tr>\n",
       "      <th>1</th>\n",
       "      <td>3</td>\n",
       "      <td>Alicante/Alacant</td>\n",
       "      <td>21.5</td>\n",
       "      <td>134.9</td>\n",
       "      <td>157.5</td>\n",
       "      <td>32.7</td>\n",
       "      <td>536.8</td>\n",
       "      <td>27.8</td>\n",
       "      <td>123.3</td>\n",
       "      <td>149.9</td>\n",
       "      <td>...</td>\n",
       "      <td>21.9</td>\n",
       "      <td>56.6</td>\n",
       "      <td>144.7</td>\n",
       "      <td>89.0</td>\n",
       "      <td>593.1</td>\n",
       "      <td>24.7</td>\n",
       "      <td>59.4</td>\n",
       "      <td>152.0</td>\n",
       "      <td>83.3</td>\n",
       "      <td>587.3</td>\n",
       "    </tr>\n",
       "    <tr>\n",
       "      <th>2</th>\n",
       "      <td>4</td>\n",
       "      <td>Almería</td>\n",
       "      <td>55.4</td>\n",
       "      <td>66.5</td>\n",
       "      <td>25.1</td>\n",
       "      <td>11.4</td>\n",
       "      <td>176.3</td>\n",
       "      <td>48.9</td>\n",
       "      <td>52.0</td>\n",
       "      <td>24.1</td>\n",
       "      <td>...</td>\n",
       "      <td>93.5</td>\n",
       "      <td>18.0</td>\n",
       "      <td>16.6</td>\n",
       "      <td>37.5</td>\n",
       "      <td>181.6</td>\n",
       "      <td>92.2</td>\n",
       "      <td>15.1</td>\n",
       "      <td>19.4</td>\n",
       "      <td>32.8</td>\n",
       "      <td>185.6</td>\n",
       "    </tr>\n",
       "    <tr>\n",
       "      <th>3</th>\n",
       "      <td>1</td>\n",
       "      <td>Araba/Álava</td>\n",
       "      <td>2.5</td>\n",
       "      <td>15.0</td>\n",
       "      <td>51.1</td>\n",
       "      <td>2.3</td>\n",
       "      <td>87.2</td>\n",
       "      <td>2.4</td>\n",
       "      <td>12.9</td>\n",
       "      <td>50.9</td>\n",
       "      <td>...</td>\n",
       "      <td>4.5</td>\n",
       "      <td>5.2</td>\n",
       "      <td>41.4</td>\n",
       "      <td>11.5</td>\n",
       "      <td>89.3</td>\n",
       "      <td>3.8</td>\n",
       "      <td>6.8</td>\n",
       "      <td>41.2</td>\n",
       "      <td>11.7</td>\n",
       "      <td>89.3</td>\n",
       "    </tr>\n",
       "    <tr>\n",
       "      <th>4</th>\n",
       "      <td>33</td>\n",
       "      <td>Asturias</td>\n",
       "      <td>21.4</td>\n",
       "      <td>55.9</td>\n",
       "      <td>72.7</td>\n",
       "      <td>20.2</td>\n",
       "      <td>320.0</td>\n",
       "      <td>22.2</td>\n",
       "      <td>60.3</td>\n",
       "      <td>69.3</td>\n",
       "      <td>...</td>\n",
       "      <td>13.6</td>\n",
       "      <td>23.3</td>\n",
       "      <td>64.2</td>\n",
       "      <td>37.1</td>\n",
       "      <td>321.3</td>\n",
       "      <td>15.7</td>\n",
       "      <td>26.0</td>\n",
       "      <td>62.9</td>\n",
       "      <td>35.4</td>\n",
       "      <td>321.5</td>\n",
       "    </tr>\n",
       "  </tbody>\n",
       "</table>\n",
       "<p>5 rows × 192 columns</p>\n",
       "</div>"
      ],
      "text/plain": [
       "   cod_provincia      ds_provincia  2008T1_Agricultura  2008T1_Construccion  \\\n",
       "0              2          Albacete                15.4                 23.4   \n",
       "1              3  Alicante/Alacant                21.5                134.9   \n",
       "2              4           Almería                55.4                 66.5   \n",
       "3              1       Araba/Álava                 2.5                 15.0   \n",
       "4             33          Asturias                21.4                 55.9   \n",
       "\n",
       "   2008T1_Industria  2008T1_ParadosActivos  2008T1_Servicios  \\\n",
       "0              30.8                    7.2             114.1   \n",
       "1             157.5                   32.7             536.8   \n",
       "2              25.1                   11.4             176.3   \n",
       "3              51.1                    2.3              87.2   \n",
       "4              72.7                   20.2             320.0   \n",
       "\n",
       "   2008T2_Agricultura  2008T2_Construccion  2008T2_Industria  ...  \\\n",
       "0                12.2                 23.5              32.9  ...   \n",
       "1                27.8                123.3             149.9  ...   \n",
       "2                48.9                 52.0              24.1  ...   \n",
       "3                 2.4                 12.9              50.9  ...   \n",
       "4                22.2                 60.3              69.3  ...   \n",
       "\n",
       "   2017T1_Agricultura  2017T1_Construccion  2017T1_Industria  \\\n",
       "0                14.2                  9.2              24.2   \n",
       "1                21.9                 56.6             144.7   \n",
       "2                93.5                 18.0              16.6   \n",
       "3                 4.5                  5.2              41.4   \n",
       "4                13.6                 23.3              64.2   \n",
       "\n",
       "   2017T1_ParadosActivos  2017T1_Servicios  2017T2_Agricultura  \\\n",
       "0                   22.9             116.9                13.8   \n",
       "1                   89.0             593.1                24.7   \n",
       "2                   37.5             181.6                92.2   \n",
       "3                   11.5              89.3                 3.8   \n",
       "4                   37.1             321.3                15.7   \n",
       "\n",
       "   2017T2_Construccion  2017T2_Industria  2017T2_ParadosActivos  \\\n",
       "0                 11.0              23.1                   25.7   \n",
       "1                 59.4             152.0                   83.3   \n",
       "2                 15.1              19.4                   32.8   \n",
       "3                  6.8              41.2                   11.7   \n",
       "4                 26.0              62.9                   35.4   \n",
       "\n",
       "   2017T2_Servicios  \n",
       "0             118.1  \n",
       "1             587.3  \n",
       "2             185.6  \n",
       "3              89.3  \n",
       "4             321.5  \n",
       "\n",
       "[5 rows x 192 columns]"
      ]
     },
     "execution_count": 13,
     "metadata": {},
     "output_type": "execute_result"
    }
   ],
   "source": [
    "df_ine.head()"
   ]
  },
  {
   "cell_type": "markdown",
   "metadata": {},
   "source": [
    "Guardamos el dataframe en un csv, el encoding utf-8 es el que viene por defecto"
   ]
  },
  {
   "cell_type": "code",
   "execution_count": 14,
   "metadata": {},
   "outputs": [],
   "source": [
    "df_ine.to_csv(\"salidas/ine_activos.csv\")"
   ]
  },
  {
   "cell_type": "markdown",
   "metadata": {},
   "source": [
    "Transformar el dataframe a un formato narrow"
   ]
  },
  {
   "cell_type": "code",
   "execution_count": 15,
   "metadata": {},
   "outputs": [],
   "source": [
    "df_narrow = df_ine.melt(id_vars =[\"ds_provincia\",\"cod_provincia\"])"
   ]
  },
  {
   "cell_type": "code",
   "execution_count": 16,
   "metadata": {},
   "outputs": [
    {
     "data": {
      "text/html": [
       "<div>\n",
       "<style scoped>\n",
       "    .dataframe tbody tr th:only-of-type {\n",
       "        vertical-align: middle;\n",
       "    }\n",
       "\n",
       "    .dataframe tbody tr th {\n",
       "        vertical-align: top;\n",
       "    }\n",
       "\n",
       "    .dataframe thead th {\n",
       "        text-align: right;\n",
       "    }\n",
       "</style>\n",
       "<table border=\"1\" class=\"dataframe\">\n",
       "  <thead>\n",
       "    <tr style=\"text-align: right;\">\n",
       "      <th></th>\n",
       "      <th>ds_provincia</th>\n",
       "      <th>cod_provincia</th>\n",
       "      <th>variable</th>\n",
       "      <th>value</th>\n",
       "    </tr>\n",
       "  </thead>\n",
       "  <tbody>\n",
       "    <tr>\n",
       "      <th>0</th>\n",
       "      <td>Albacete</td>\n",
       "      <td>2</td>\n",
       "      <td>2008T1_Agricultura</td>\n",
       "      <td>15.4</td>\n",
       "    </tr>\n",
       "    <tr>\n",
       "      <th>1</th>\n",
       "      <td>Alicante/Alacant</td>\n",
       "      <td>3</td>\n",
       "      <td>2008T1_Agricultura</td>\n",
       "      <td>21.5</td>\n",
       "    </tr>\n",
       "    <tr>\n",
       "      <th>2</th>\n",
       "      <td>Almería</td>\n",
       "      <td>4</td>\n",
       "      <td>2008T1_Agricultura</td>\n",
       "      <td>55.4</td>\n",
       "    </tr>\n",
       "    <tr>\n",
       "      <th>3</th>\n",
       "      <td>Araba/Álava</td>\n",
       "      <td>1</td>\n",
       "      <td>2008T1_Agricultura</td>\n",
       "      <td>2.5</td>\n",
       "    </tr>\n",
       "    <tr>\n",
       "      <th>4</th>\n",
       "      <td>Asturias</td>\n",
       "      <td>33</td>\n",
       "      <td>2008T1_Agricultura</td>\n",
       "      <td>21.4</td>\n",
       "    </tr>\n",
       "  </tbody>\n",
       "</table>\n",
       "</div>"
      ],
      "text/plain": [
       "       ds_provincia  cod_provincia            variable  value\n",
       "0          Albacete              2  2008T1_Agricultura   15.4\n",
       "1  Alicante/Alacant              3  2008T1_Agricultura   21.5\n",
       "2           Almería              4  2008T1_Agricultura   55.4\n",
       "3       Araba/Álava              1  2008T1_Agricultura    2.5\n",
       "4          Asturias             33  2008T1_Agricultura   21.4"
      ]
     },
     "execution_count": 16,
     "metadata": {},
     "output_type": "execute_result"
    }
   ],
   "source": [
    "df_narrow.head()"
   ]
  },
  {
   "cell_type": "code",
   "execution_count": 21,
   "metadata": {},
   "outputs": [],
   "source": [
    "df_narrow[\"anio\"] = df_narrow[\"variable\"].apply(lambda x: pd.Series(re.search(r'\\d{4}',str(x))[0]))"
   ]
  },
  {
   "cell_type": "code",
   "execution_count": 32,
   "metadata": {},
   "outputs": [],
   "source": [
    "df_narrow[\"anio\"] = df_narrow[\"anio\"].astype(\"int64\")"
   ]
  },
  {
   "cell_type": "code",
   "execution_count": 22,
   "metadata": {},
   "outputs": [],
   "source": [
    "df_narrow[\"trimestre\"] = df_narrow[\"variable\"].apply(lambda x: pd.Series(re.search(r'(T\\d)',\"2008T1_Agricultura\")[1][1]))"
   ]
  },
  {
   "cell_type": "code",
   "execution_count": 23,
   "metadata": {},
   "outputs": [],
   "source": [
    "df_narrow[\"trimestre\"] = df_narrow[\"variable\"].apply(lambda x: pd.Series(re.search(r'(T\\d)',str(x))[1][1]))"
   ]
  },
  {
   "cell_type": "code",
   "execution_count": 25,
   "metadata": {},
   "outputs": [],
   "source": [
    "df_narrow[\"trimestre\"] = df_narrow[\"trimestre\"].astype(\"int64\")"
   ]
  },
  {
   "cell_type": "code",
   "execution_count": 26,
   "metadata": {},
   "outputs": [],
   "source": [
    "df_narrow[[\"basura\",\"sector\"]] = df_narrow.variable.str.split(\"_\",expand=True,)"
   ]
  },
  {
   "cell_type": "code",
   "execution_count": 27,
   "metadata": {},
   "outputs": [],
   "source": [
    "df_narrow = df_narrow.drop(columns=[\"basura\",\"variable\"])"
   ]
  },
  {
   "cell_type": "code",
   "execution_count": 31,
   "metadata": {},
   "outputs": [
    {
     "data": {
      "text/html": [
       "<div>\n",
       "<style scoped>\n",
       "    .dataframe tbody tr th:only-of-type {\n",
       "        vertical-align: middle;\n",
       "    }\n",
       "\n",
       "    .dataframe tbody tr th {\n",
       "        vertical-align: top;\n",
       "    }\n",
       "\n",
       "    .dataframe thead th {\n",
       "        text-align: right;\n",
       "    }\n",
       "</style>\n",
       "<table border=\"1\" class=\"dataframe\">\n",
       "  <thead>\n",
       "    <tr style=\"text-align: right;\">\n",
       "      <th></th>\n",
       "      <th>ds_provincia</th>\n",
       "      <th>cod_provincia</th>\n",
       "      <th>value</th>\n",
       "      <th>anio</th>\n",
       "      <th>trimestre</th>\n",
       "      <th>sector</th>\n",
       "    </tr>\n",
       "  </thead>\n",
       "  <tbody>\n",
       "    <tr>\n",
       "      <th>0</th>\n",
       "      <td>Albacete</td>\n",
       "      <td>2</td>\n",
       "      <td>15.4</td>\n",
       "      <td>2008</td>\n",
       "      <td>1</td>\n",
       "      <td>Agricultura</td>\n",
       "    </tr>\n",
       "    <tr>\n",
       "      <th>1</th>\n",
       "      <td>Alicante/Alacant</td>\n",
       "      <td>3</td>\n",
       "      <td>21.5</td>\n",
       "      <td>2008</td>\n",
       "      <td>1</td>\n",
       "      <td>Agricultura</td>\n",
       "    </tr>\n",
       "    <tr>\n",
       "      <th>2</th>\n",
       "      <td>Almería</td>\n",
       "      <td>4</td>\n",
       "      <td>55.4</td>\n",
       "      <td>2008</td>\n",
       "      <td>1</td>\n",
       "      <td>Agricultura</td>\n",
       "    </tr>\n",
       "    <tr>\n",
       "      <th>3</th>\n",
       "      <td>Araba/Álava</td>\n",
       "      <td>1</td>\n",
       "      <td>2.5</td>\n",
       "      <td>2008</td>\n",
       "      <td>1</td>\n",
       "      <td>Agricultura</td>\n",
       "    </tr>\n",
       "    <tr>\n",
       "      <th>4</th>\n",
       "      <td>Asturias</td>\n",
       "      <td>33</td>\n",
       "      <td>21.4</td>\n",
       "      <td>2008</td>\n",
       "      <td>1</td>\n",
       "      <td>Agricultura</td>\n",
       "    </tr>\n",
       "  </tbody>\n",
       "</table>\n",
       "</div>"
      ],
      "text/plain": [
       "       ds_provincia  cod_provincia  value  anio  trimestre       sector\n",
       "0          Albacete              2   15.4  2008          1  Agricultura\n",
       "1  Alicante/Alacant              3   21.5  2008          1  Agricultura\n",
       "2           Almería              4   55.4  2008          1  Agricultura\n",
       "3       Araba/Álava              1    2.5  2008          1  Agricultura\n",
       "4          Asturias             33   21.4  2008          1  Agricultura"
      ]
     },
     "execution_count": 31,
     "metadata": {},
     "output_type": "execute_result"
    }
   ],
   "source": [
    "df_narrow.head()"
   ]
  },
  {
   "cell_type": "code",
   "execution_count": 33,
   "metadata": {},
   "outputs": [
    {
     "data": {
      "text/plain": [
       "ds_provincia      object\n",
       "cod_provincia      int64\n",
       "value            float64\n",
       "anio               int64\n",
       "trimestre          int64\n",
       "sector            object\n",
       "dtype: object"
      ]
     },
     "execution_count": 33,
     "metadata": {},
     "output_type": "execute_result"
    }
   ],
   "source": [
    "df_narrow.dtypes"
   ]
  },
  {
   "cell_type": "code",
   "execution_count": 34,
   "metadata": {},
   "outputs": [],
   "source": [
    "df_narrow.to_csv(\"salidas/narrow_data.csv\")"
   ]
  },
  {
   "cell_type": "markdown",
   "metadata": {},
   "source": [
    "Cálculos con el dataframe narrow"
   ]
  },
  {
   "cell_type": "code",
   "execution_count": 35,
   "metadata": {},
   "outputs": [],
   "source": [
    "activos_anio = df_narrow[df_narrow[\"trimestre\"]==4]"
   ]
  },
  {
   "cell_type": "code",
   "execution_count": 36,
   "metadata": {},
   "outputs": [],
   "source": [
    "activos_anio = activos_anio[[\"value\",\"anio\",\"sector\"]].groupby([\"anio\",\"sector\"]).sum()"
   ]
  },
  {
   "cell_type": "code",
   "execution_count": 37,
   "metadata": {},
   "outputs": [
    {
     "data": {
      "text/html": [
       "<div>\n",
       "<style scoped>\n",
       "    .dataframe tbody tr th:only-of-type {\n",
       "        vertical-align: middle;\n",
       "    }\n",
       "\n",
       "    .dataframe tbody tr th {\n",
       "        vertical-align: top;\n",
       "    }\n",
       "\n",
       "    .dataframe thead th {\n",
       "        text-align: right;\n",
       "    }\n",
       "</style>\n",
       "<table border=\"1\" class=\"dataframe\">\n",
       "  <thead>\n",
       "    <tr style=\"text-align: right;\">\n",
       "      <th></th>\n",
       "      <th></th>\n",
       "      <th>value</th>\n",
       "    </tr>\n",
       "    <tr>\n",
       "      <th>anio</th>\n",
       "      <th>sector</th>\n",
       "      <th></th>\n",
       "    </tr>\n",
       "  </thead>\n",
       "  <tbody>\n",
       "    <tr>\n",
       "      <th rowspan=\"5\" valign=\"top\">2008</th>\n",
       "      <th>Agricultura</th>\n",
       "      <td>962.8</td>\n",
       "    </tr>\n",
       "    <tr>\n",
       "      <th>Construccion</th>\n",
       "      <td>2764.0</td>\n",
       "    </tr>\n",
       "    <tr>\n",
       "      <th>Industria</th>\n",
       "      <td>3370.1</td>\n",
       "    </tr>\n",
       "    <tr>\n",
       "      <th>ParadosActivos</th>\n",
       "      <td>1036.6</td>\n",
       "    </tr>\n",
       "    <tr>\n",
       "      <th>Servicios</th>\n",
       "      <td>15128.6</td>\n",
       "    </tr>\n",
       "    <tr>\n",
       "      <th rowspan=\"5\" valign=\"top\">2009</th>\n",
       "      <th>Agricultura</th>\n",
       "      <td>972.1</td>\n",
       "    </tr>\n",
       "    <tr>\n",
       "      <th>Construccion</th>\n",
       "      <td>2414.9</td>\n",
       "    </tr>\n",
       "    <tr>\n",
       "      <th>Industria</th>\n",
       "      <td>3048.6</td>\n",
       "    </tr>\n",
       "    <tr>\n",
       "      <th>ParadosActivos</th>\n",
       "      <td>1779.3</td>\n",
       "    </tr>\n",
       "    <tr>\n",
       "      <th>Servicios</th>\n",
       "      <td>15010.7</td>\n",
       "    </tr>\n",
       "  </tbody>\n",
       "</table>\n",
       "</div>"
      ],
      "text/plain": [
       "                       value\n",
       "anio sector                 \n",
       "2008 Agricultura       962.8\n",
       "     Construccion     2764.0\n",
       "     Industria        3370.1\n",
       "     ParadosActivos   1036.6\n",
       "     Servicios       15128.6\n",
       "2009 Agricultura       972.1\n",
       "     Construccion     2414.9\n",
       "     Industria        3048.6\n",
       "     ParadosActivos   1779.3\n",
       "     Servicios       15010.7"
      ]
     },
     "execution_count": 37,
     "metadata": {},
     "output_type": "execute_result"
    }
   ],
   "source": [
    "activos_anio.head(10)"
   ]
  },
  {
   "cell_type": "markdown",
   "metadata": {},
   "source": [
    "Pivotar el df_narrow y guardar como excel"
   ]
  },
  {
   "cell_type": "code",
   "execution_count": 38,
   "metadata": {},
   "outputs": [],
   "source": [
    "df_servicios = df_narrow[df_narrow[\"sector\"]==\"Servicios\"]"
   ]
  },
  {
   "cell_type": "code",
   "execution_count": 39,
   "metadata": {},
   "outputs": [],
   "source": [
    "df_servicios = df_servicios.pivot_table(values = [\"value\"],index=[\"ds_provincia\"],columns=[\"anio\",\"trimestre\"])"
   ]
  },
  {
   "cell_type": "code",
   "execution_count": 40,
   "metadata": {},
   "outputs": [
    {
     "data": {
      "text/html": [
       "<div>\n",
       "<style scoped>\n",
       "    .dataframe tbody tr th:only-of-type {\n",
       "        vertical-align: middle;\n",
       "    }\n",
       "\n",
       "    .dataframe tbody tr th {\n",
       "        vertical-align: top;\n",
       "    }\n",
       "\n",
       "    .dataframe thead tr th {\n",
       "        text-align: left;\n",
       "    }\n",
       "\n",
       "    .dataframe thead tr:last-of-type th {\n",
       "        text-align: right;\n",
       "    }\n",
       "</style>\n",
       "<table border=\"1\" class=\"dataframe\">\n",
       "  <thead>\n",
       "    <tr>\n",
       "      <th></th>\n",
       "      <th colspan=\"21\" halign=\"left\">value</th>\n",
       "    </tr>\n",
       "    <tr>\n",
       "      <th>anio</th>\n",
       "      <th colspan=\"4\" halign=\"left\">2008</th>\n",
       "      <th colspan=\"4\" halign=\"left\">2009</th>\n",
       "      <th colspan=\"2\" halign=\"left\">2010</th>\n",
       "      <th>...</th>\n",
       "      <th colspan=\"4\" halign=\"left\">2015</th>\n",
       "      <th colspan=\"4\" halign=\"left\">2016</th>\n",
       "      <th colspan=\"2\" halign=\"left\">2017</th>\n",
       "    </tr>\n",
       "    <tr>\n",
       "      <th>trimestre</th>\n",
       "      <th>1</th>\n",
       "      <th>2</th>\n",
       "      <th>3</th>\n",
       "      <th>4</th>\n",
       "      <th>1</th>\n",
       "      <th>2</th>\n",
       "      <th>3</th>\n",
       "      <th>4</th>\n",
       "      <th>1</th>\n",
       "      <th>2</th>\n",
       "      <th>...</th>\n",
       "      <th>1</th>\n",
       "      <th>2</th>\n",
       "      <th>3</th>\n",
       "      <th>4</th>\n",
       "      <th>1</th>\n",
       "      <th>2</th>\n",
       "      <th>3</th>\n",
       "      <th>4</th>\n",
       "      <th>1</th>\n",
       "      <th>2</th>\n",
       "    </tr>\n",
       "    <tr>\n",
       "      <th>ds_provincia</th>\n",
       "      <th></th>\n",
       "      <th></th>\n",
       "      <th></th>\n",
       "      <th></th>\n",
       "      <th></th>\n",
       "      <th></th>\n",
       "      <th></th>\n",
       "      <th></th>\n",
       "      <th></th>\n",
       "      <th></th>\n",
       "      <th></th>\n",
       "      <th></th>\n",
       "      <th></th>\n",
       "      <th></th>\n",
       "      <th></th>\n",
       "      <th></th>\n",
       "      <th></th>\n",
       "      <th></th>\n",
       "      <th></th>\n",
       "      <th></th>\n",
       "      <th></th>\n",
       "    </tr>\n",
       "  </thead>\n",
       "  <tbody>\n",
       "    <tr>\n",
       "      <th>Albacete</th>\n",
       "      <td>114.1</td>\n",
       "      <td>115.7</td>\n",
       "      <td>119.7</td>\n",
       "      <td>113.7</td>\n",
       "      <td>113.2</td>\n",
       "      <td>111.6</td>\n",
       "      <td>113.5</td>\n",
       "      <td>108.8</td>\n",
       "      <td>110.2</td>\n",
       "      <td>111.4</td>\n",
       "      <td>...</td>\n",
       "      <td>114.2</td>\n",
       "      <td>114.9</td>\n",
       "      <td>117.2</td>\n",
       "      <td>117.9</td>\n",
       "      <td>110.2</td>\n",
       "      <td>109.2</td>\n",
       "      <td>105.8</td>\n",
       "      <td>110.8</td>\n",
       "      <td>116.9</td>\n",
       "      <td>118.1</td>\n",
       "    </tr>\n",
       "    <tr>\n",
       "      <th>Alicante/Alacant</th>\n",
       "      <td>536.8</td>\n",
       "      <td>561.4</td>\n",
       "      <td>572.1</td>\n",
       "      <td>596.5</td>\n",
       "      <td>579.9</td>\n",
       "      <td>608.1</td>\n",
       "      <td>612.8</td>\n",
       "      <td>585.3</td>\n",
       "      <td>577.9</td>\n",
       "      <td>563.7</td>\n",
       "      <td>...</td>\n",
       "      <td>538.3</td>\n",
       "      <td>543.6</td>\n",
       "      <td>580.2</td>\n",
       "      <td>588.0</td>\n",
       "      <td>594.5</td>\n",
       "      <td>616.1</td>\n",
       "      <td>618.3</td>\n",
       "      <td>612.2</td>\n",
       "      <td>593.1</td>\n",
       "      <td>587.3</td>\n",
       "    </tr>\n",
       "    <tr>\n",
       "      <th>Almería</th>\n",
       "      <td>176.3</td>\n",
       "      <td>183.7</td>\n",
       "      <td>195.8</td>\n",
       "      <td>205.6</td>\n",
       "      <td>204.8</td>\n",
       "      <td>202.6</td>\n",
       "      <td>193.9</td>\n",
       "      <td>203.1</td>\n",
       "      <td>204.4</td>\n",
       "      <td>203.2</td>\n",
       "      <td>...</td>\n",
       "      <td>196.4</td>\n",
       "      <td>196.4</td>\n",
       "      <td>186.2</td>\n",
       "      <td>182.4</td>\n",
       "      <td>181.3</td>\n",
       "      <td>177.9</td>\n",
       "      <td>176.0</td>\n",
       "      <td>183.4</td>\n",
       "      <td>181.6</td>\n",
       "      <td>185.6</td>\n",
       "    </tr>\n",
       "    <tr>\n",
       "      <th>Araba/Álava</th>\n",
       "      <td>87.2</td>\n",
       "      <td>93.6</td>\n",
       "      <td>100.7</td>\n",
       "      <td>101.2</td>\n",
       "      <td>100.7</td>\n",
       "      <td>97.7</td>\n",
       "      <td>97.3</td>\n",
       "      <td>99.3</td>\n",
       "      <td>98.7</td>\n",
       "      <td>97.8</td>\n",
       "      <td>...</td>\n",
       "      <td>95.2</td>\n",
       "      <td>91.6</td>\n",
       "      <td>88.7</td>\n",
       "      <td>95.9</td>\n",
       "      <td>96.1</td>\n",
       "      <td>91.4</td>\n",
       "      <td>93.9</td>\n",
       "      <td>90.8</td>\n",
       "      <td>89.3</td>\n",
       "      <td>89.3</td>\n",
       "    </tr>\n",
       "    <tr>\n",
       "      <th>Asturias</th>\n",
       "      <td>320.0</td>\n",
       "      <td>332.0</td>\n",
       "      <td>330.7</td>\n",
       "      <td>330.7</td>\n",
       "      <td>337.9</td>\n",
       "      <td>336.2</td>\n",
       "      <td>332.6</td>\n",
       "      <td>326.0</td>\n",
       "      <td>328.5</td>\n",
       "      <td>322.6</td>\n",
       "      <td>...</td>\n",
       "      <td>304.7</td>\n",
       "      <td>307.7</td>\n",
       "      <td>315.0</td>\n",
       "      <td>317.4</td>\n",
       "      <td>318.1</td>\n",
       "      <td>317.3</td>\n",
       "      <td>320.4</td>\n",
       "      <td>316.0</td>\n",
       "      <td>321.3</td>\n",
       "      <td>321.5</td>\n",
       "    </tr>\n",
       "  </tbody>\n",
       "</table>\n",
       "<p>5 rows × 38 columns</p>\n",
       "</div>"
      ],
      "text/plain": [
       "                  value                                                   \\\n",
       "anio               2008                        2009                        \n",
       "trimestre             1      2      3      4      1      2      3      4   \n",
       "ds_provincia                                                               \n",
       "Albacete          114.1  115.7  119.7  113.7  113.2  111.6  113.5  108.8   \n",
       "Alicante/Alacant  536.8  561.4  572.1  596.5  579.9  608.1  612.8  585.3   \n",
       "Almería           176.3  183.7  195.8  205.6  204.8  202.6  193.9  203.1   \n",
       "Araba/Álava        87.2   93.6  100.7  101.2  100.7   97.7   97.3   99.3   \n",
       "Asturias          320.0  332.0  330.7  330.7  337.9  336.2  332.6  326.0   \n",
       "\n",
       "                                ...                                            \\\n",
       "anio               2010         ...   2015                        2016          \n",
       "trimestre             1      2  ...      1      2      3      4      1      2   \n",
       "ds_provincia                    ...                                             \n",
       "Albacete          110.2  111.4  ...  114.2  114.9  117.2  117.9  110.2  109.2   \n",
       "Alicante/Alacant  577.9  563.7  ...  538.3  543.6  580.2  588.0  594.5  616.1   \n",
       "Almería           204.4  203.2  ...  196.4  196.4  186.2  182.4  181.3  177.9   \n",
       "Araba/Álava        98.7   97.8  ...   95.2   91.6   88.7   95.9   96.1   91.4   \n",
       "Asturias          328.5  322.6  ...  304.7  307.7  315.0  317.4  318.1  317.3   \n",
       "\n",
       "                                              \n",
       "anio                             2017         \n",
       "trimestre             3      4      1      2  \n",
       "ds_provincia                                  \n",
       "Albacete          105.8  110.8  116.9  118.1  \n",
       "Alicante/Alacant  618.3  612.2  593.1  587.3  \n",
       "Almería           176.0  183.4  181.6  185.6  \n",
       "Araba/Álava        93.9   90.8   89.3   89.3  \n",
       "Asturias          320.4  316.0  321.3  321.5  \n",
       "\n",
       "[5 rows x 38 columns]"
      ]
     },
     "execution_count": 40,
     "metadata": {},
     "output_type": "execute_result"
    }
   ],
   "source": [
    "df_servicios.head()"
   ]
  },
  {
   "cell_type": "code",
   "execution_count": 41,
   "metadata": {},
   "outputs": [],
   "source": [
    "df_servicios.to_excel(\"salidas/servicios.xlsx\")"
   ]
  },
  {
   "cell_type": "markdown",
   "metadata": {},
   "source": [
    "Total de población activa en España para todos los sectores para cada año y trimestre"
   ]
  },
  {
   "cell_type": "code",
   "execution_count": 42,
   "metadata": {},
   "outputs": [],
   "source": [
    "pob_activa = df_narrow[[\"anio\",\"trimestre\",\"sector\",\"value\"]].groupby([\"anio\",\"trimestre\"]).sum()"
   ]
  },
  {
   "cell_type": "code",
   "execution_count": 43,
   "metadata": {},
   "outputs": [],
   "source": [
    "pob_2009 = df_narrow[df_narrow[\"anio\"] != 2008]"
   ]
  },
  {
   "cell_type": "code",
   "execution_count": 44,
   "metadata": {},
   "outputs": [],
   "source": [
    "pob_2009 = pob_2009[[\"anio\",\"trimestre\",\"sector\",\"value\"]].groupby([\"anio\",\"trimestre\"]).sum()"
   ]
  },
  {
   "cell_type": "code",
   "execution_count": 45,
   "metadata": {},
   "outputs": [],
   "source": [
    "pob2 = df_narrow[df_narrow[\"anio\"] != 2017]"
   ]
  },
  {
   "cell_type": "code",
   "execution_count": 46,
   "metadata": {},
   "outputs": [],
   "source": [
    "pob2 = pob2[[\"anio\",\"trimestre\",\"sector\",\"value\"]].groupby([\"anio\",\"trimestre\"]).sum()"
   ]
  },
  {
   "cell_type": "code",
   "execution_count": 47,
   "metadata": {},
   "outputs": [],
   "source": [
    "pob_2009.reset_index(drop=True, inplace = True)\n",
    "pob2.reset_index(drop=True, inplace = True)\n",
    "pob2 = pob2.drop([34,35],0)"
   ]
  },
  {
   "cell_type": "code",
   "execution_count": 48,
   "metadata": {},
   "outputs": [],
   "source": [
    "index = pob_activa.index\n",
    "pob_activa.reset_index(drop=True, inplace = True)"
   ]
  },
  {
   "cell_type": "code",
   "execution_count": 49,
   "metadata": {},
   "outputs": [],
   "source": [
    "pob_activa[\"value\"] = (pob_2009[\"value\"]-pob2[\"value\"])/pob2[\"value\"]"
   ]
  },
  {
   "cell_type": "code",
   "execution_count": 50,
   "metadata": {},
   "outputs": [],
   "source": [
    "pob_activa = pob_activa.set_index(index)"
   ]
  },
  {
   "cell_type": "code",
   "execution_count": 51,
   "metadata": {},
   "outputs": [
    {
     "data": {
      "text/html": [
       "<div>\n",
       "<style scoped>\n",
       "    .dataframe tbody tr th:only-of-type {\n",
       "        vertical-align: middle;\n",
       "    }\n",
       "\n",
       "    .dataframe tbody tr th {\n",
       "        vertical-align: top;\n",
       "    }\n",
       "\n",
       "    .dataframe thead th {\n",
       "        text-align: right;\n",
       "    }\n",
       "</style>\n",
       "<table border=\"1\" class=\"dataframe\">\n",
       "  <thead>\n",
       "    <tr style=\"text-align: right;\">\n",
       "      <th></th>\n",
       "      <th></th>\n",
       "      <th>value</th>\n",
       "    </tr>\n",
       "    <tr>\n",
       "      <th>anio</th>\n",
       "      <th>trimestre</th>\n",
       "      <th></th>\n",
       "    </tr>\n",
       "  </thead>\n",
       "  <tbody>\n",
       "    <tr>\n",
       "      <th rowspan=\"4\" valign=\"top\">2008</th>\n",
       "      <th>1</th>\n",
       "      <td>0.021618</td>\n",
       "    </tr>\n",
       "    <tr>\n",
       "      <th>2</th>\n",
       "      <td>0.011319</td>\n",
       "    </tr>\n",
       "    <tr>\n",
       "      <th>3</th>\n",
       "      <td>0.002734</td>\n",
       "    </tr>\n",
       "    <tr>\n",
       "      <th>4</th>\n",
       "      <td>-0.001569</td>\n",
       "    </tr>\n",
       "    <tr>\n",
       "      <th>2009</th>\n",
       "      <th>1</th>\n",
       "      <td>-0.001425</td>\n",
       "    </tr>\n",
       "  </tbody>\n",
       "</table>\n",
       "</div>"
      ],
      "text/plain": [
       "                   value\n",
       "anio trimestre          \n",
       "2008 1          0.021618\n",
       "     2          0.011319\n",
       "     3          0.002734\n",
       "     4         -0.001569\n",
       "2009 1         -0.001425"
      ]
     },
     "execution_count": 51,
     "metadata": {},
     "output_type": "execute_result"
    }
   ],
   "source": [
    "pob_activa.head()"
   ]
  },
  {
   "cell_type": "code",
   "execution_count": 52,
   "metadata": {},
   "outputs": [],
   "source": [
    "pob_activa.to_json(\"salidas/tasas_poblacion_activa.json\",orient=\"table\")"
   ]
  },
  {
   "cell_type": "markdown",
   "metadata": {},
   "source": [
    "Exportar el entorno con anaconda -- Lo he ejecutado en la consola directamente"
   ]
  },
  {
   "cell_type": "code",
   "execution_count": 53,
   "metadata": {},
   "outputs": [
    {
     "name": "stdout",
     "output_type": "stream",
     "text": [
      "\n",
      "Note: you may need to restart the kernel to use updated packages.\n"
     ]
    }
   ],
   "source": [
    "#conda env export > env_tecnologias.yml"
   ]
  },
  {
   "cell_type": "code",
   "execution_count": 57,
   "metadata": {},
   "outputs": [],
   "source": [
    "#jupyter nbconvert --to python practica1_ejer2.ipynb."
   ]
  }
 ],
 "metadata": {
  "kernelspec": {
   "display_name": "Python 3",
   "language": "python",
   "name": "python3"
  },
  "language_info": {
   "codemirror_mode": {
    "name": "ipython",
    "version": 3
   },
   "file_extension": ".py",
   "mimetype": "text/x-python",
   "name": "python",
   "nbconvert_exporter": "python",
   "pygments_lexer": "ipython3",
   "version": "3.8.3"
  }
 },
 "nbformat": 4,
 "nbformat_minor": 4
}
