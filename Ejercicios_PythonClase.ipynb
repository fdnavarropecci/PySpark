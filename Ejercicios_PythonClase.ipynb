{
 "cells": [
  {
   "cell_type": "markdown",
   "metadata": {},
   "source": [
    "# Ejercicios Python "
   ]
  },
  {
   "cell_type": "code",
   "execution_count": 67,
   "metadata": {},
   "outputs": [],
   "source": [
    "import numpy as np\n",
    "import math\n",
    "import pandas as pd\n",
    "import datetime\n",
    "import json"
   ]
  },
  {
   "cell_type": "markdown",
   "metadata": {},
   "source": [
    "## Ejercicio 2"
   ]
  },
  {
   "cell_type": "code",
   "execution_count": 16,
   "metadata": {},
   "outputs": [],
   "source": [
    "tau = float(format(math.tau, '.2f'))\n",
    "\n",
    "def fibo1(n):\n",
    "    if n < 2:\n",
    "        fn = n    \n",
    "    else:\n",
    "        n = n-1\n",
    "        fn = fibo1(n)+fibo1(n-1)\n",
    "    return fn\n",
    "\n",
    "def fibo2(n):\n",
    "    fn=(np.power(tau,n)-np.power(-tau,n))/np.sqrt(5)\n",
    "    return fn\n"
   ]
  },
  {
   "cell_type": "code",
   "execution_count": 12,
   "metadata": {},
   "outputs": [
    {
     "name": "stdout",
     "output_type": "stream",
     "text": [
      "34 µs ± 858 ns per loop (mean ± std. dev. of 7 runs, 10000 loops each)\n"
     ]
    }
   ],
   "source": [
    "%%timeit \n",
    "result1 = fibo1(10)"
   ]
  },
  {
   "cell_type": "code",
   "execution_count": 15,
   "metadata": {},
   "outputs": [
    {
     "name": "stdout",
     "output_type": "stream",
     "text": [
      "7.71 µs ± 98.1 ns per loop (mean ± std. dev. of 7 runs, 100000 loops each)\n"
     ]
    }
   ],
   "source": [
    "%%timeit \n",
    "result_2=fibo2(10)"
   ]
  },
  {
   "cell_type": "markdown",
   "metadata": {},
   "source": [
    "## Ejercicio 3"
   ]
  },
  {
   "cell_type": "code",
   "execution_count": 3,
   "metadata": {},
   "outputs": [],
   "source": [
    "peliculas = [\n",
    "\n",
    "    'http://www.imdb.com/title/tt0071562',\n",
    "    'http://www.imdb.com/title/tt0110912',\n",
    "    'http://www.imdb.com/title/tt0050083',\n",
    "    'http://www.imdb.com/title/tt0108052',\n",
    "    'http://www.imdb.com/title/tt0468569',\n",
    "    'http://www.imdb.com/title/tt0068646',\n",
    "    'http://www.imdb.com/title/tt0167260',\n",
    "    'http://www.imdb.com/title/tt0060196',\n",
    "    'http://www.imdb.com/title/tt0137523',\n",
    "    'http://www.imdb.com/title/tt0111161',\n",
    "\n",
    "]"
   ]
  },
  {
   "cell_type": "code",
   "execution_count": 4,
   "metadata": {},
   "outputs": [],
   "source": [
    "\n",
    "import requests\n",
    "from bs4 import BeautifulSoup\n"
   ]
  },
  {
   "cell_type": "code",
   "execution_count": 5,
   "metadata": {},
   "outputs": [],
   "source": [
    "\n",
    "\n",
    "def parsear_html(texto):\n",
    "    soup = BeautifulSoup(texto,'lxml')\n",
    "    item = dict()\n",
    "    item['titulo'] = soup.find(\"h1\").find(text=True).replace(u'\\xa0',' ').strip()\n",
    "    item['ratingvalue'] = float(soup.select_one('[itemprop=\"ratingValue\"]').text)\n",
    "    return item\n",
    "    "
   ]
  },
  {
   "cell_type": "code",
   "execution_count": 9,
   "metadata": {},
   "outputs": [],
   "source": [
    "docs = []\n",
    "\n",
    "for item in peliculas:\n",
    "    result = requests.get(item)\n",
    "    docs.append(result.content)\n",
    "\n"
   ]
  },
  {
   "cell_type": "code",
   "execution_count": 11,
   "metadata": {},
   "outputs": [
    {
     "name": "stdout",
     "output_type": "stream",
     "text": [
      "\n"
     ]
    }
   ],
   "source": [
    "print(docs[0])"
   ]
  },
  {
   "cell_type": "code",
   "execution_count": 12,
   "metadata": {},
   "outputs": [],
   "source": [
    "dict_list = []    \n",
    "for i in docs:\n",
    "    parseado = parsear_html(i)\n",
    "    dict_list.append(parseado)"
   ]
  },
  {
   "cell_type": "code",
   "execution_count": 23,
   "metadata": {},
   "outputs": [],
   "source": [
    "dict_list2 = sorted(dict_list, key=lambda k: k['ratingvalue'],reverse=True)"
   ]
  },
  {
   "cell_type": "code",
   "execution_count": 24,
   "metadata": {},
   "outputs": [
    {
     "name": "stdout",
     "output_type": "stream",
     "text": [
      "[{'titulo': 'Cadena perpetua', 'ratingvalue': 9.3}, {'titulo': 'El padrino', 'ratingvalue': 9.2}, {'titulo': 'El padrino: Parte II', 'ratingvalue': 9.0}, {'titulo': '12 hombres sin piedad', 'ratingvalue': 9.0}, {'titulo': 'El caballero oscuro', 'ratingvalue': 9.0}, {'titulo': 'Pulp Fiction', 'ratingvalue': 8.9}, {'titulo': 'La lista de Schindler', 'ratingvalue': 8.9}, {'titulo': 'El señor de los anillos: El retorno del rey', 'ratingvalue': 8.9}, {'titulo': 'El bueno, el feo y el malo', 'ratingvalue': 8.8}, {'titulo': 'El club de la lucha', 'ratingvalue': 8.8}]\n"
     ]
    }
   ],
   "source": [
    "print(dict_list2)"
   ]
  },
  {
   "cell_type": "code",
   "execution_count": 17,
   "metadata": {},
   "outputs": [],
   "source": [
    "pelis_df = pd.DataFrame(dict_list)"
   ]
  },
  {
   "cell_type": "code",
   "execution_count": 18,
   "metadata": {},
   "outputs": [
    {
     "name": "stdout",
     "output_type": "stream",
     "text": [
      "                                        titulo  ratingvalue\n",
      "0                         El padrino: Parte II          9.0\n",
      "1                                 Pulp Fiction          8.9\n",
      "2                        12 hombres sin piedad          9.0\n",
      "3                        La lista de Schindler          8.9\n",
      "4                          El caballero oscuro          9.0\n",
      "5                                   El padrino          9.2\n",
      "6  El señor de los anillos: El retorno del rey          8.9\n",
      "7                   El bueno, el feo y el malo          8.8\n",
      "8                          El club de la lucha          8.8\n",
      "9                              Cadena perpetua          9.3\n"
     ]
    }
   ],
   "source": [
    "print(pelis_df)"
   ]
  },
  {
   "cell_type": "markdown",
   "metadata": {},
   "source": [
    "## Ejercicio 4"
   ]
  },
  {
   "cell_type": "code",
   "execution_count": 88,
   "metadata": {},
   "outputs": [],
   "source": [
    "vectores = np.genfromtxt(\"files/vectores.txt\")"
   ]
  },
  {
   "cell_type": "code",
   "execution_count": 89,
   "metadata": {},
   "outputs": [],
   "source": [
    "beta = np.array([-10.749495878,-0.714877620,0.005738104])"
   ]
  },
  {
   "cell_type": "code",
   "execution_count": 90,
   "metadata": {},
   "outputs": [
    {
     "data": {
      "text/plain": [
       "(10000, 3)"
      ]
     },
     "execution_count": 90,
     "metadata": {},
     "output_type": "execute_result"
    }
   ],
   "source": [
    "vectores.shape"
   ]
  },
  {
   "cell_type": "code",
   "execution_count": 91,
   "metadata": {},
   "outputs": [
    {
     "name": "stdout",
     "output_type": "stream",
     "text": [
      "[ -6.56339698  -6.77530734  -4.58935913 ...  -5.89843396  -1.74635875\n",
      " -10.31146112]\n"
     ]
    }
   ],
   "source": [
    "p = vectores.dot(beta)\n",
    "print(p)"
   ]
  },
  {
   "cell_type": "code",
   "execution_count": 92,
   "metadata": {},
   "outputs": [
    {
     "data": {
      "text/plain": [
       "(10000,)"
      ]
     },
     "execution_count": 92,
     "metadata": {},
     "output_type": "execute_result"
    }
   ],
   "source": [
    "p.shape"
   ]
  },
  {
   "cell_type": "code",
   "execution_count": 93,
   "metadata": {},
   "outputs": [],
   "source": [
    "y = 1/(1+np.exp(-p))\n"
   ]
  },
  {
   "cell_type": "code",
   "execution_count": 94,
   "metadata": {},
   "outputs": [
    {
     "data": {
      "text/plain": [
       "True"
      ]
     },
     "execution_count": 94,
     "metadata": {},
     "output_type": "execute_result"
    }
   ],
   "source": [
    "(y >= 0).all() and (y <= 1).all()"
   ]
  },
  {
   "cell_type": "code",
   "execution_count": 95,
   "metadata": {},
   "outputs": [],
   "source": [
    "y = y[y>0.5]\n"
   ]
  },
  {
   "cell_type": "code",
   "execution_count": 96,
   "metadata": {},
   "outputs": [
    {
     "name": "stdout",
     "output_type": "stream",
     "text": [
      "[0.50539582 0.50926088 0.50973921 0.51412193 0.5144781  0.5168467\n",
      " 0.52318182 0.52328834 0.52373802 0.52544993 0.52856831 0.52926095\n",
      " 0.53542653 0.53575929 0.53750479 0.53825935 0.54121578 0.5414002\n",
      " 0.54187551 0.54337684 0.54865393 0.55064373 0.55250612 0.55418929\n",
      " 0.55474389 0.55798769 0.55819726 0.55993018 0.56099945 0.56686073\n",
      " 0.56941307 0.57050141 0.57050656 0.5753001  0.57579382 0.57712487\n",
      " 0.57814839 0.59497203 0.59737533 0.59988593 0.61412188 0.61578501\n",
      " 0.61996686 0.62442851 0.62710655 0.62720029 0.62782019 0.62896247\n",
      " 0.63236384 0.63511909 0.6363374  0.63807122 0.64026186 0.64267804\n",
      " 0.65028239 0.65543637 0.65615843 0.66012558 0.66281111 0.66346946\n",
      " 0.66460518 0.66675052 0.66697843 0.67050929 0.67254974 0.67396352\n",
      " 0.67560425 0.67891782 0.68107203 0.68282816 0.68465514 0.68552491\n",
      " 0.68585899 0.68699388 0.70001021 0.70326577 0.70371033 0.70448442\n",
      " 0.70456528 0.71446514 0.71487285 0.71889416 0.71999464 0.72109056\n",
      " 0.72304627 0.72679787 0.72764359 0.73263845 0.73659484 0.73868913\n",
      " 0.73889355 0.74234101 0.74262121 0.74345904 0.74790507 0.74866304\n",
      " 0.75952658 0.76059892 0.76099695 0.76114213 0.76694462 0.7672296\n",
      " 0.7690686  0.77167952 0.77378739 0.77753629 0.7778459  0.78116884\n",
      " 0.78216924 0.79822335 0.80714536 0.80877795 0.8124116  0.81645975\n",
      " 0.81970446 0.82647074 0.82806954 0.82936123 0.83448825 0.84019341\n",
      " 0.84358753 0.85622653 0.858274   0.8651603  0.86858011 0.87235289\n",
      " 0.87314647 0.88023307 0.88411229 0.88469986 0.88946518 0.89450371\n",
      " 0.90328656 0.90371638 0.91541555 0.91644268 0.93462525 0.93699465\n",
      " 0.94766288 0.95121676 0.95682596 0.96548211 0.97314607 0.97738806]\n"
     ]
    }
   ],
   "source": [
    " y = np.sort(y)\n",
    "\n",
    "print(y)"
   ]
  },
  {
   "cell_type": "markdown",
   "metadata": {},
   "source": [
    "## Ejercicio 5"
   ]
  },
  {
   "cell_type": "code",
   "execution_count": 9,
   "metadata": {},
   "outputs": [
    {
     "name": "stdout",
     "output_type": "stream",
     "text": [
      "    GOOGL.Open  GOOGL.High  GOOGL.Low  GOOGL.Close  GOOGL.Volume  \\\n",
      "0      267.302     269.164    264.109   267.492493       5343600   \n",
      "1      867.940     869.880    861.300   868.390015       1332900   \n",
      "2      827.070     829.410    823.140   826.010010       1197400   \n",
      "3      560.510     565.840    559.000   561.390015       1681100   \n",
      "4      222.848     227.312    222.222   224.074081      14858300   \n",
      "5      550.410     561.170    550.080   557.460022       3909200   \n",
      "6      510.840     521.850    509.590   520.390015       2317800   \n",
      "7      312.683     312.733    309.454   310.010010       2846700   \n",
      "8      234.600     237.382    230.020   232.437439       8620500   \n",
      "9      257.117     257.753    254.755   255.760757       6303400   \n",
      "10     456.957     460.866    454.715   460.580566       5163200   \n",
      "11     791.980     792.890    786.330   791.400024       1303500   \n",
      "12     263.213     263.674    260.956   263.128143       6113800   \n",
      "13     365.035     371.106    364.204   369.354340       5521400   \n",
      "14     286.687     289.434    284.294   285.280273       5626500   \n",
      "15     581.830     589.310    581.570   587.809998       1143700   \n",
      "16     215.155     216.642    213.338   215.300293       6300600   \n",
      "17     270.270     272.487    269.039   271.601593       4081700   \n",
      "18     327.047     328.624    322.472   324.529541       3844700   \n",
      "19     268.018     272.763    267.548   271.551544       5915600   \n",
      "20     337.738     338.554    325.455   337.122131      17791100   \n",
      "21     376.301     377.813    372.422   372.747742       4803500   \n",
      "22     135.060     140.821    132.803   139.854858      11797700   \n",
      "23     151.201     155.330    151.051   155.105103      25217500   \n",
      "24     270.270     272.322    269.525   272.322327       8448500   \n",
      "25     282.918     283.979    280.290   281.626617       5387000   \n",
      "26     278.799     279.434    271.271   274.774780      10991500   \n",
      "27     245.185     247.162    243.473   245.915909       6229700   \n",
      "28     543.820     547.550    539.550   542.650024       1453300   \n",
      "29     565.766     568.068    556.982   557.812805       3880700   \n",
      "\n",
      "    GOOGL.Adjusted        date  \n",
      "0       267.492493  2010-02-10  \n",
      "1       868.390015  2017-03-15  \n",
      "2       826.010010  2017-01-10  \n",
      "3       561.390015  2015-04-29  \n",
      "4       224.074081  2008-03-05  \n",
      "5       557.460022  2015-04-23  \n",
      "6       520.390015  2015-01-21  \n",
      "7       310.010010  2009-12-29  \n",
      "8       232.437439  2008-09-03  \n",
      "9       255.760757  2007-08-02  \n",
      "10      460.580566  2013-07-11  \n",
      "11      791.400024  2016-09-01  \n",
      "12      263.128143  2011-04-20  \n",
      "13      369.354340  2013-01-04  \n",
      "14      285.280273  2011-03-14  \n",
      "15      587.809998  2014-09-29  \n",
      "16      215.300293  2009-07-20  \n",
      "17      271.601593  2011-05-10  \n",
      "18      324.529541  2012-03-29  \n",
      "19      271.551544  2011-09-15  \n",
      "20      337.122131  2007-11-27  \n",
      "21      372.747742  2012-10-12  \n",
      "22      139.854858  2008-12-03  \n",
      "23      155.105103  2005-07-19  \n",
      "24      272.322327  2011-04-29  \n",
      "25      281.626617  2010-03-26  \n",
      "26      274.774780  2010-03-23  \n",
      "27      245.915909  2010-07-14  \n",
      "28      542.650024  2015-02-18  \n",
      "29      557.812805  2014-03-31  \n"
     ]
    }
   ],
   "source": [
    "files = []\n",
    "\n",
    "for i in range(108):\n",
    "    file_index = str(i+1)\n",
    "    path = r\"C:\\Users\\fdnav\\PySpark\\files\\files_bolsa\\file_{}.csv\".format(file_index)\n",
    "    file = pd.read_csv(path,sep=\",\")\n",
    "    files.append(file)\n",
    "\n"
   ]
  },
  {
   "cell_type": "code",
   "execution_count": 47,
   "metadata": {},
   "outputs": [
    {
     "data": {
      "text/html": [
       "<div>\n",
       "<style scoped>\n",
       "    .dataframe tbody tr th:only-of-type {\n",
       "        vertical-align: middle;\n",
       "    }\n",
       "\n",
       "    .dataframe tbody tr th {\n",
       "        vertical-align: top;\n",
       "    }\n",
       "\n",
       "    .dataframe thead th {\n",
       "        text-align: right;\n",
       "    }\n",
       "</style>\n",
       "<table border=\"1\" class=\"dataframe\">\n",
       "  <thead>\n",
       "    <tr style=\"text-align: right;\">\n",
       "      <th></th>\n",
       "      <th>GOOGL.Open</th>\n",
       "      <th>GOOGL.High</th>\n",
       "      <th>GOOGL.Low</th>\n",
       "      <th>GOOGL.Close</th>\n",
       "      <th>GOOGL.Volume</th>\n",
       "      <th>GOOGL.Adjusted</th>\n",
       "      <th>date</th>\n",
       "    </tr>\n",
       "  </thead>\n",
       "  <tbody>\n",
       "    <tr>\n",
       "      <th>0</th>\n",
       "      <td>263.824</td>\n",
       "      <td>264.510</td>\n",
       "      <td>260.260</td>\n",
       "      <td>263.478485</td>\n",
       "      <td>6611700</td>\n",
       "      <td>263.478485</td>\n",
       "      <td>2010-02-25</td>\n",
       "    </tr>\n",
       "    <tr>\n",
       "      <th>1</th>\n",
       "      <td>226.226</td>\n",
       "      <td>231.321</td>\n",
       "      <td>225.841</td>\n",
       "      <td>230.435440</td>\n",
       "      <td>7989800</td>\n",
       "      <td>230.435440</td>\n",
       "      <td>2009-08-20</td>\n",
       "    </tr>\n",
       "    <tr>\n",
       "      <th>2</th>\n",
       "      <td>287.883</td>\n",
       "      <td>291.517</td>\n",
       "      <td>286.286</td>\n",
       "      <td>291.371368</td>\n",
       "      <td>3628700</td>\n",
       "      <td>291.371368</td>\n",
       "      <td>2011-03-23</td>\n",
       "    </tr>\n",
       "    <tr>\n",
       "      <th>3</th>\n",
       "      <td>199.284</td>\n",
       "      <td>201.401</td>\n",
       "      <td>197.593</td>\n",
       "      <td>201.191193</td>\n",
       "      <td>6399500</td>\n",
       "      <td>201.191193</td>\n",
       "      <td>2009-05-04</td>\n",
       "    </tr>\n",
       "    <tr>\n",
       "      <th>4</th>\n",
       "      <td>297.432</td>\n",
       "      <td>301.802</td>\n",
       "      <td>292.107</td>\n",
       "      <td>300.885895</td>\n",
       "      <td>7643700</td>\n",
       "      <td>300.885895</td>\n",
       "      <td>2011-08-03</td>\n",
       "    </tr>\n",
       "  </tbody>\n",
       "</table>\n",
       "</div>"
      ],
      "text/plain": [
       "   GOOGL.Open  GOOGL.High  GOOGL.Low  GOOGL.Close  GOOGL.Volume  \\\n",
       "0     263.824     264.510    260.260   263.478485       6611700   \n",
       "1     226.226     231.321    225.841   230.435440       7989800   \n",
       "2     287.883     291.517    286.286   291.371368       3628700   \n",
       "3     199.284     201.401    197.593   201.191193       6399500   \n",
       "4     297.432     301.802    292.107   300.885895       7643700   \n",
       "\n",
       "   GOOGL.Adjusted        date  \n",
       "0      263.478485  2010-02-25  \n",
       "1      230.435440  2009-08-20  \n",
       "2      291.371368  2011-03-23  \n",
       "3      201.191193  2009-05-04  \n",
       "4      300.885895  2011-08-03  "
      ]
     },
     "execution_count": 47,
     "metadata": {},
     "output_type": "execute_result"
    }
   ],
   "source": [
    "df = pd.concat(files)\n",
    "\n",
    "df.head()"
   ]
  },
  {
   "cell_type": "code",
   "execution_count": 48,
   "metadata": {},
   "outputs": [
    {
     "data": {
      "text/html": [
       "<div>\n",
       "<style scoped>\n",
       "    .dataframe tbody tr th:only-of-type {\n",
       "        vertical-align: middle;\n",
       "    }\n",
       "\n",
       "    .dataframe tbody tr th {\n",
       "        vertical-align: top;\n",
       "    }\n",
       "\n",
       "    .dataframe thead th {\n",
       "        text-align: right;\n",
       "    }\n",
       "</style>\n",
       "<table border=\"1\" class=\"dataframe\">\n",
       "  <thead>\n",
       "    <tr style=\"text-align: right;\">\n",
       "      <th></th>\n",
       "      <th>GOOGL.Open</th>\n",
       "      <th>GOOGL.High</th>\n",
       "      <th>GOOGL.Low</th>\n",
       "      <th>GOOGL.Close</th>\n",
       "      <th>GOOGL.Volume</th>\n",
       "      <th>GOOGL.Adjusted</th>\n",
       "      <th>date</th>\n",
       "    </tr>\n",
       "  </thead>\n",
       "  <tbody>\n",
       "    <tr>\n",
       "      <th>1</th>\n",
       "      <td>98.799</td>\n",
       "      <td>101.922</td>\n",
       "      <td>97.828</td>\n",
       "      <td>101.456459</td>\n",
       "      <td>31656700</td>\n",
       "      <td>101.456459</td>\n",
       "      <td>2005-01-03</td>\n",
       "    </tr>\n",
       "    <tr>\n",
       "      <th>8</th>\n",
       "      <td>100.801</td>\n",
       "      <td>101.567</td>\n",
       "      <td>96.837</td>\n",
       "      <td>97.347351</td>\n",
       "      <td>27484200</td>\n",
       "      <td>97.347351</td>\n",
       "      <td>2005-01-04</td>\n",
       "    </tr>\n",
       "    <tr>\n",
       "      <th>23</th>\n",
       "      <td>96.822</td>\n",
       "      <td>98.549</td>\n",
       "      <td>96.211</td>\n",
       "      <td>96.851852</td>\n",
       "      <td>16456700</td>\n",
       "      <td>96.851852</td>\n",
       "      <td>2005-01-05</td>\n",
       "    </tr>\n",
       "    <tr>\n",
       "      <th>27</th>\n",
       "      <td>97.638</td>\n",
       "      <td>98.048</td>\n",
       "      <td>93.954</td>\n",
       "      <td>94.369370</td>\n",
       "      <td>20753400</td>\n",
       "      <td>94.369370</td>\n",
       "      <td>2005-01-06</td>\n",
       "    </tr>\n",
       "    <tr>\n",
       "      <th>28</th>\n",
       "      <td>95.415</td>\n",
       "      <td>97.222</td>\n",
       "      <td>94.484</td>\n",
       "      <td>97.022018</td>\n",
       "      <td>19306400</td>\n",
       "      <td>97.022018</td>\n",
       "      <td>2005-01-07</td>\n",
       "    </tr>\n",
       "  </tbody>\n",
       "</table>\n",
       "</div>"
      ],
      "text/plain": [
       "    GOOGL.Open  GOOGL.High  GOOGL.Low  GOOGL.Close  GOOGL.Volume  \\\n",
       "1       98.799     101.922     97.828   101.456459      31656700   \n",
       "8      100.801     101.567     96.837    97.347351      27484200   \n",
       "23      96.822      98.549     96.211    96.851852      16456700   \n",
       "27      97.638      98.048     93.954    94.369370      20753400   \n",
       "28      95.415      97.222     94.484    97.022018      19306400   \n",
       "\n",
       "    GOOGL.Adjusted        date  \n",
       "1       101.456459  2005-01-03  \n",
       "8        97.347351  2005-01-04  \n",
       "23       96.851852  2005-01-05  \n",
       "27       94.369370  2005-01-06  \n",
       "28       97.022018  2005-01-07  "
      ]
     },
     "execution_count": 48,
     "metadata": {},
     "output_type": "execute_result"
    }
   ],
   "source": [
    "df = df.sort_values(by=['date'])\n",
    "\n",
    "df.head()"
   ]
  },
  {
   "cell_type": "code",
   "execution_count": 51,
   "metadata": {},
   "outputs": [
    {
     "data": {
      "text/html": [
       "<div>\n",
       "<style scoped>\n",
       "    .dataframe tbody tr th:only-of-type {\n",
       "        vertical-align: middle;\n",
       "    }\n",
       "\n",
       "    .dataframe tbody tr th {\n",
       "        vertical-align: top;\n",
       "    }\n",
       "\n",
       "    .dataframe thead th {\n",
       "        text-align: right;\n",
       "    }\n",
       "</style>\n",
       "<table border=\"1\" class=\"dataframe\">\n",
       "  <thead>\n",
       "    <tr style=\"text-align: right;\">\n",
       "      <th></th>\n",
       "      <th>GOOGL.Open</th>\n",
       "      <th>GOOGL.High</th>\n",
       "      <th>GOOGL.Low</th>\n",
       "      <th>GOOGL.Close</th>\n",
       "      <th>GOOGL.Volume</th>\n",
       "      <th>GOOGL.Adjusted</th>\n",
       "      <th>date</th>\n",
       "      <th>year</th>\n",
       "      <th>month</th>\n",
       "    </tr>\n",
       "  </thead>\n",
       "  <tbody>\n",
       "    <tr>\n",
       "      <th>1</th>\n",
       "      <td>98.799</td>\n",
       "      <td>101.922</td>\n",
       "      <td>97.828</td>\n",
       "      <td>101.456459</td>\n",
       "      <td>31656700</td>\n",
       "      <td>101.456459</td>\n",
       "      <td>2005-01-03</td>\n",
       "      <td>2005</td>\n",
       "      <td>01</td>\n",
       "    </tr>\n",
       "    <tr>\n",
       "      <th>8</th>\n",
       "      <td>100.801</td>\n",
       "      <td>101.567</td>\n",
       "      <td>96.837</td>\n",
       "      <td>97.347351</td>\n",
       "      <td>27484200</td>\n",
       "      <td>97.347351</td>\n",
       "      <td>2005-01-04</td>\n",
       "      <td>2005</td>\n",
       "      <td>01</td>\n",
       "    </tr>\n",
       "    <tr>\n",
       "      <th>23</th>\n",
       "      <td>96.822</td>\n",
       "      <td>98.549</td>\n",
       "      <td>96.211</td>\n",
       "      <td>96.851852</td>\n",
       "      <td>16456700</td>\n",
       "      <td>96.851852</td>\n",
       "      <td>2005-01-05</td>\n",
       "      <td>2005</td>\n",
       "      <td>01</td>\n",
       "    </tr>\n",
       "    <tr>\n",
       "      <th>27</th>\n",
       "      <td>97.638</td>\n",
       "      <td>98.048</td>\n",
       "      <td>93.954</td>\n",
       "      <td>94.369370</td>\n",
       "      <td>20753400</td>\n",
       "      <td>94.369370</td>\n",
       "      <td>2005-01-06</td>\n",
       "      <td>2005</td>\n",
       "      <td>01</td>\n",
       "    </tr>\n",
       "    <tr>\n",
       "      <th>28</th>\n",
       "      <td>95.415</td>\n",
       "      <td>97.222</td>\n",
       "      <td>94.484</td>\n",
       "      <td>97.022018</td>\n",
       "      <td>19306400</td>\n",
       "      <td>97.022018</td>\n",
       "      <td>2005-01-07</td>\n",
       "      <td>2005</td>\n",
       "      <td>01</td>\n",
       "    </tr>\n",
       "  </tbody>\n",
       "</table>\n",
       "</div>"
      ],
      "text/plain": [
       "    GOOGL.Open  GOOGL.High  GOOGL.Low  GOOGL.Close  GOOGL.Volume  \\\n",
       "1       98.799     101.922     97.828   101.456459      31656700   \n",
       "8      100.801     101.567     96.837    97.347351      27484200   \n",
       "23      96.822      98.549     96.211    96.851852      16456700   \n",
       "27      97.638      98.048     93.954    94.369370      20753400   \n",
       "28      95.415      97.222     94.484    97.022018      19306400   \n",
       "\n",
       "    GOOGL.Adjusted        date  year month  \n",
       "1       101.456459  2005-01-03  2005    01  \n",
       "8        97.347351  2005-01-04  2005    01  \n",
       "23       96.851852  2005-01-05  2005    01  \n",
       "27       94.369370  2005-01-06  2005    01  \n",
       "28       97.022018  2005-01-07  2005    01  "
      ]
     },
     "execution_count": 51,
     "metadata": {},
     "output_type": "execute_result"
    }
   ],
   "source": [
    "# Extract month and year\n",
    "df[['year','month','day']] = df.date.str.split(\"-\",expand=True,)\n",
    "df = df.drop(columns=['day'])\n",
    "df.head()\n",
    "\n",
    "\n"
   ]
  },
  {
   "cell_type": "code",
   "execution_count": 61,
   "metadata": {},
   "outputs": [
    {
     "data": {
      "text/html": [
       "<div>\n",
       "<style scoped>\n",
       "    .dataframe tbody tr th:only-of-type {\n",
       "        vertical-align: middle;\n",
       "    }\n",
       "\n",
       "    .dataframe tbody tr th {\n",
       "        vertical-align: top;\n",
       "    }\n",
       "\n",
       "    .dataframe thead th {\n",
       "        text-align: right;\n",
       "    }\n",
       "</style>\n",
       "<table border=\"1\" class=\"dataframe\">\n",
       "  <thead>\n",
       "    <tr style=\"text-align: right;\">\n",
       "      <th></th>\n",
       "      <th>year</th>\n",
       "      <th>month</th>\n",
       "      <th>GOOGL.Adjusted</th>\n",
       "    </tr>\n",
       "  </thead>\n",
       "  <tbody>\n",
       "    <tr>\n",
       "      <th>0</th>\n",
       "      <td>2005</td>\n",
       "      <td>01</td>\n",
       "      <td>96.519520</td>\n",
       "    </tr>\n",
       "    <tr>\n",
       "      <th>1</th>\n",
       "      <td>2005</td>\n",
       "      <td>02</td>\n",
       "      <td>97.604447</td>\n",
       "    </tr>\n",
       "    <tr>\n",
       "      <th>2</th>\n",
       "      <td>2005</td>\n",
       "      <td>03</td>\n",
       "      <td>90.669761</td>\n",
       "    </tr>\n",
       "    <tr>\n",
       "      <th>3</th>\n",
       "      <td>2005</td>\n",
       "      <td>04</td>\n",
       "      <td>99.707088</td>\n",
       "    </tr>\n",
       "    <tr>\n",
       "      <th>4</th>\n",
       "      <td>2005</td>\n",
       "      <td>05</td>\n",
       "      <td>119.974975</td>\n",
       "    </tr>\n",
       "    <tr>\n",
       "      <th>...</th>\n",
       "      <td>...</td>\n",
       "      <td>...</td>\n",
       "      <td>...</td>\n",
       "    </tr>\n",
       "    <tr>\n",
       "      <th>149</th>\n",
       "      <td>2017</td>\n",
       "      <td>06</td>\n",
       "      <td>973.368639</td>\n",
       "    </tr>\n",
       "    <tr>\n",
       "      <th>150</th>\n",
       "      <td>2017</td>\n",
       "      <td>07</td>\n",
       "      <td>963.443506</td>\n",
       "    </tr>\n",
       "    <tr>\n",
       "      <th>151</th>\n",
       "      <td>2017</td>\n",
       "      <td>08</td>\n",
       "      <td>937.960874</td>\n",
       "    </tr>\n",
       "    <tr>\n",
       "      <th>152</th>\n",
       "      <td>2017</td>\n",
       "      <td>09</td>\n",
       "      <td>945.884497</td>\n",
       "    </tr>\n",
       "    <tr>\n",
       "      <th>153</th>\n",
       "      <td>2017</td>\n",
       "      <td>10</td>\n",
       "      <td>988.444006</td>\n",
       "    </tr>\n",
       "  </tbody>\n",
       "</table>\n",
       "<p>154 rows × 3 columns</p>\n",
       "</div>"
      ],
      "text/plain": [
       "     year month  GOOGL.Adjusted\n",
       "0    2005    01       96.519520\n",
       "1    2005    02       97.604447\n",
       "2    2005    03       90.669761\n",
       "3    2005    04       99.707088\n",
       "4    2005    05      119.974975\n",
       "..    ...   ...             ...\n",
       "149  2017    06      973.368639\n",
       "150  2017    07      963.443506\n",
       "151  2017    08      937.960874\n",
       "152  2017    09      945.884497\n",
       "153  2017    10      988.444006\n",
       "\n",
       "[154 rows x 3 columns]"
      ]
     },
     "execution_count": 61,
     "metadata": {},
     "output_type": "execute_result"
    }
   ],
   "source": [
    "df.groupby([\"year\",\"month\"])[\"GOOGL.Adjusted\"].mean().reset_index()\n"
   ]
  },
  {
   "cell_type": "code",
   "execution_count": 62,
   "metadata": {},
   "outputs": [
    {
     "data": {
      "text/html": [
       "<div>\n",
       "<style scoped>\n",
       "    .dataframe tbody tr th:only-of-type {\n",
       "        vertical-align: middle;\n",
       "    }\n",
       "\n",
       "    .dataframe tbody tr th {\n",
       "        vertical-align: top;\n",
       "    }\n",
       "\n",
       "    .dataframe thead th {\n",
       "        text-align: right;\n",
       "    }\n",
       "</style>\n",
       "<table border=\"1\" class=\"dataframe\">\n",
       "  <thead>\n",
       "    <tr style=\"text-align: right;\">\n",
       "      <th></th>\n",
       "      <th>year</th>\n",
       "      <th>month</th>\n",
       "      <th>GOOGL.Adjusted</th>\n",
       "    </tr>\n",
       "  </thead>\n",
       "  <tbody>\n",
       "    <tr>\n",
       "      <th>0</th>\n",
       "      <td>2005</td>\n",
       "      <td>01</td>\n",
       "      <td>102.052055</td>\n",
       "    </tr>\n",
       "    <tr>\n",
       "      <th>1</th>\n",
       "      <td>2005</td>\n",
       "      <td>02</td>\n",
       "      <td>105.535538</td>\n",
       "    </tr>\n",
       "    <tr>\n",
       "      <th>2</th>\n",
       "      <td>2005</td>\n",
       "      <td>03</td>\n",
       "      <td>94.499496</td>\n",
       "    </tr>\n",
       "    <tr>\n",
       "      <th>3</th>\n",
       "      <td>2005</td>\n",
       "      <td>04</td>\n",
       "      <td>111.876877</td>\n",
       "    </tr>\n",
       "    <tr>\n",
       "      <th>4</th>\n",
       "      <td>2005</td>\n",
       "      <td>05</td>\n",
       "      <td>138.773773</td>\n",
       "    </tr>\n",
       "    <tr>\n",
       "      <th>...</th>\n",
       "      <td>...</td>\n",
       "      <td>...</td>\n",
       "      <td>...</td>\n",
       "    </tr>\n",
       "    <tr>\n",
       "      <th>149</th>\n",
       "      <td>2017</td>\n",
       "      <td>06</td>\n",
       "      <td>1004.280029</td>\n",
       "    </tr>\n",
       "    <tr>\n",
       "      <th>150</th>\n",
       "      <td>2017</td>\n",
       "      <td>07</td>\n",
       "      <td>998.309998</td>\n",
       "    </tr>\n",
       "    <tr>\n",
       "      <th>151</th>\n",
       "      <td>2017</td>\n",
       "      <td>08</td>\n",
       "      <td>955.239990</td>\n",
       "    </tr>\n",
       "    <tr>\n",
       "      <th>152</th>\n",
       "      <td>2017</td>\n",
       "      <td>09</td>\n",
       "      <td>973.719971</td>\n",
       "    </tr>\n",
       "    <tr>\n",
       "      <th>153</th>\n",
       "      <td>2017</td>\n",
       "      <td>10</td>\n",
       "      <td>1007.869995</td>\n",
       "    </tr>\n",
       "  </tbody>\n",
       "</table>\n",
       "<p>154 rows × 3 columns</p>\n",
       "</div>"
      ],
      "text/plain": [
       "     year month  GOOGL.Adjusted\n",
       "0    2005    01      102.052055\n",
       "1    2005    02      105.535538\n",
       "2    2005    03       94.499496\n",
       "3    2005    04      111.876877\n",
       "4    2005    05      138.773773\n",
       "..    ...   ...             ...\n",
       "149  2017    06     1004.280029\n",
       "150  2017    07      998.309998\n",
       "151  2017    08      955.239990\n",
       "152  2017    09      973.719971\n",
       "153  2017    10     1007.869995\n",
       "\n",
       "[154 rows x 3 columns]"
      ]
     },
     "execution_count": 62,
     "metadata": {},
     "output_type": "execute_result"
    }
   ],
   "source": [
    "df.groupby([\"year\",\"month\"])[\"GOOGL.Adjusted\"].max().reset_index()\n"
   ]
  },
  {
   "cell_type": "code",
   "execution_count": 63,
   "metadata": {},
   "outputs": [
    {
     "data": {
      "text/html": [
       "<div>\n",
       "<style scoped>\n",
       "    .dataframe tbody tr th:only-of-type {\n",
       "        vertical-align: middle;\n",
       "    }\n",
       "\n",
       "    .dataframe tbody tr th {\n",
       "        vertical-align: top;\n",
       "    }\n",
       "\n",
       "    .dataframe thead th {\n",
       "        text-align: right;\n",
       "    }\n",
       "</style>\n",
       "<table border=\"1\" class=\"dataframe\">\n",
       "  <thead>\n",
       "    <tr style=\"text-align: right;\">\n",
       "      <th></th>\n",
       "      <th>year</th>\n",
       "      <th>month</th>\n",
       "      <th>GOOGL.Adjusted</th>\n",
       "    </tr>\n",
       "  </thead>\n",
       "  <tbody>\n",
       "    <tr>\n",
       "      <th>0</th>\n",
       "      <td>2005</td>\n",
       "      <td>01</td>\n",
       "      <td>88.648651</td>\n",
       "    </tr>\n",
       "    <tr>\n",
       "      <th>1</th>\n",
       "      <td>2005</td>\n",
       "      <td>02</td>\n",
       "      <td>93.028030</td>\n",
       "    </tr>\n",
       "    <tr>\n",
       "      <th>2</th>\n",
       "      <td>2005</td>\n",
       "      <td>03</td>\n",
       "      <td>87.582581</td>\n",
       "    </tr>\n",
       "    <tr>\n",
       "      <th>3</th>\n",
       "      <td>2005</td>\n",
       "      <td>04</td>\n",
       "      <td>90.110107</td>\n",
       "    </tr>\n",
       "    <tr>\n",
       "      <th>4</th>\n",
       "      <td>2005</td>\n",
       "      <td>05</td>\n",
       "      <td>111.256256</td>\n",
       "    </tr>\n",
       "    <tr>\n",
       "      <th>...</th>\n",
       "      <td>...</td>\n",
       "      <td>...</td>\n",
       "      <td>...</td>\n",
       "    </tr>\n",
       "    <tr>\n",
       "      <th>149</th>\n",
       "      <td>2017</td>\n",
       "      <td>06</td>\n",
       "      <td>929.679993</td>\n",
       "    </tr>\n",
       "    <tr>\n",
       "      <th>150</th>\n",
       "      <td>2017</td>\n",
       "      <td>07</td>\n",
       "      <td>919.460022</td>\n",
       "    </tr>\n",
       "    <tr>\n",
       "      <th>151</th>\n",
       "      <td>2017</td>\n",
       "      <td>08</td>\n",
       "      <td>920.869995</td>\n",
       "    </tr>\n",
       "    <tr>\n",
       "      <th>152</th>\n",
       "      <td>2017</td>\n",
       "      <td>09</td>\n",
       "      <td>929.750000</td>\n",
       "    </tr>\n",
       "    <tr>\n",
       "      <th>153</th>\n",
       "      <td>2017</td>\n",
       "      <td>10</td>\n",
       "      <td>966.780029</td>\n",
       "    </tr>\n",
       "  </tbody>\n",
       "</table>\n",
       "<p>154 rows × 3 columns</p>\n",
       "</div>"
      ],
      "text/plain": [
       "     year month  GOOGL.Adjusted\n",
       "0    2005    01       88.648651\n",
       "1    2005    02       93.028030\n",
       "2    2005    03       87.582581\n",
       "3    2005    04       90.110107\n",
       "4    2005    05      111.256256\n",
       "..    ...   ...             ...\n",
       "149  2017    06      929.679993\n",
       "150  2017    07      919.460022\n",
       "151  2017    08      920.869995\n",
       "152  2017    09      929.750000\n",
       "153  2017    10      966.780029\n",
       "\n",
       "[154 rows x 3 columns]"
      ]
     },
     "execution_count": 63,
     "metadata": {},
     "output_type": "execute_result"
    }
   ],
   "source": [
    "df.groupby([\"year\",\"month\"])[\"GOOGL.Adjusted\"].min().reset_index()"
   ]
  },
  {
   "cell_type": "code",
   "execution_count": 66,
   "metadata": {},
   "outputs": [
    {
     "data": {
      "text/plain": [
       "<matplotlib.axes._subplots.AxesSubplot at 0x240074b3a00>"
      ]
     },
     "execution_count": 66,
     "metadata": {},
     "output_type": "execute_result"
    },
    {
     "data": {
      "image/png": "[encoded data removed]",
      "text/plain": [
       "<Figure size 432x288 with 1 Axes>"
      ]
     },
     "metadata": {
      "needs_background": "light"
     },
     "output_type": "display_data"
    }
   ],
   "source": [
    "%matplotlib inline\n",
    "\n",
    "df.plot(x=\"date\",y=\"GOOGL.Close\")\n"
   ]
  },
  {
   "cell_type": "markdown",
   "metadata": {},
   "source": [
    "## Ejercicio 6"
   ]
  },
  {
   "cell_type": "code",
   "execution_count": 77,
   "metadata": {},
   "outputs": [],
   "source": [
    "with open(r\"C:\\Users\\fdnav\\PySpark\\files\\kpis_marca.json\") as f:\n",
    "  data = json.load(f)"
   ]
  },
  {
   "cell_type": "code",
   "execution_count": 78,
   "metadata": {},
   "outputs": [
    {
     "data": {
      "text/html": [
       "<div>\n",
       "<style scoped>\n",
       "    .dataframe tbody tr th:only-of-type {\n",
       "        vertical-align: middle;\n",
       "    }\n",
       "\n",
       "    .dataframe tbody tr th {\n",
       "        vertical-align: top;\n",
       "    }\n",
       "\n",
       "    .dataframe thead th {\n",
       "        text-align: right;\n",
       "    }\n",
       "</style>\n",
       "<table border=\"1\" class=\"dataframe\">\n",
       "  <thead>\n",
       "    <tr style=\"text-align: right;\">\n",
       "      <th></th>\n",
       "      <th>MARCA</th>\n",
       "      <th>VARIABLE</th>\n",
       "      <th>X2010</th>\n",
       "      <th>X2011</th>\n",
       "      <th>X2012</th>\n",
       "    </tr>\n",
       "  </thead>\n",
       "  <tbody>\n",
       "    <tr>\n",
       "      <th>0</th>\n",
       "      <td>Marca_3</td>\n",
       "      <td>If_I_had_the_opportunity_I_would_purchase_the_...</td>\n",
       "      <td>51.2416</td>\n",
       "      <td>57.9881</td>\n",
       "      <td>52.8320</td>\n",
       "    </tr>\n",
       "    <tr>\n",
       "      <th>1</th>\n",
       "      <td>Marca_2</td>\n",
       "      <td>If_I_had_the_opportunity_I_would_purchase_the_...</td>\n",
       "      <td>49.1080</td>\n",
       "      <td>51.7340</td>\n",
       "      <td>49.8815</td>\n",
       "    </tr>\n",
       "    <tr>\n",
       "      <th>2</th>\n",
       "      <td>Marca_6</td>\n",
       "      <td>If_I_had_the_opportunity_I_would_purchase_the_...</td>\n",
       "      <td>58.2505</td>\n",
       "      <td>60.0505</td>\n",
       "      <td>55.9710</td>\n",
       "    </tr>\n",
       "    <tr>\n",
       "      <th>3</th>\n",
       "      <td>Marca_1</td>\n",
       "      <td>If_I_had_the_opportunity_I_would_purchase_the_...</td>\n",
       "      <td>55.1765</td>\n",
       "      <td>59.2974</td>\n",
       "      <td>54.1031</td>\n",
       "    </tr>\n",
       "    <tr>\n",
       "      <th>4</th>\n",
       "      <td>Marca_5</td>\n",
       "      <td>If_I_had_the_opportunity_I_would_purchase_the_...</td>\n",
       "      <td>54.6310</td>\n",
       "      <td>62.9130</td>\n",
       "      <td>56.8392</td>\n",
       "    </tr>\n",
       "  </tbody>\n",
       "</table>\n",
       "</div>"
      ],
      "text/plain": [
       "     MARCA                                           VARIABLE    X2010  \\\n",
       "0  Marca_3  If_I_had_the_opportunity_I_would_purchase_the_...  51.2416   \n",
       "1  Marca_2  If_I_had_the_opportunity_I_would_purchase_the_...  49.1080   \n",
       "2  Marca_6  If_I_had_the_opportunity_I_would_purchase_the_...  58.2505   \n",
       "3  Marca_1  If_I_had_the_opportunity_I_would_purchase_the_...  55.1765   \n",
       "4  Marca_5  If_I_had_the_opportunity_I_would_purchase_the_...  54.6310   \n",
       "\n",
       "     X2011    X2012  \n",
       "0  57.9881  52.8320  \n",
       "1  51.7340  49.8815  \n",
       "2  60.0505  55.9710  \n",
       "3  59.2974  54.1031  \n",
       "4  62.9130  56.8392  "
      ]
     },
     "execution_count": 78,
     "metadata": {},
     "output_type": "execute_result"
    }
   ],
   "source": [
    "data = pd.DataFrame(data)\n",
    "data.head()"
   ]
  },
  {
   "cell_type": "code",
   "execution_count": 73,
   "metadata": {},
   "outputs": [
    {
     "ename": "TypeError",
     "evalue": "cannot perform accumulate with flexible type",
     "output_type": "error",
     "traceback": [
      "\u001b[1;31m---------------------------------------------------------------------------\u001b[0m",
      "\u001b[1;31mTypeError\u001b[0m                                 Traceback (most recent call last)",
      "\u001b[1;32m<ipython-input-73-86cdd9e7e2c2>\u001b[0m in \u001b[0;36m<module>\u001b[1;34m\u001b[0m\n\u001b[1;32m----> 1\u001b[1;33m \u001b[0mdata\u001b[0m\u001b[1;33m.\u001b[0m\u001b[0mgroupby\u001b[0m\u001b[1;33m(\u001b[0m\u001b[1;33m[\u001b[0m\u001b[1;34m\"VARIABLE\"\u001b[0m\u001b[1;33m,\u001b[0m\u001b[1;34m\"MARCA\"\u001b[0m\u001b[1;33m]\u001b[0m\u001b[1;33m)\u001b[0m\u001b[1;33m[\u001b[0m\u001b[1;33m[\u001b[0m\u001b[1;34m\"X2010\"\u001b[0m\u001b[1;33m,\u001b[0m\u001b[1;34m\"X2011\"\u001b[0m\u001b[1;33m,\u001b[0m\u001b[1;34m\"X2012\"\u001b[0m\u001b[1;33m]\u001b[0m\u001b[1;33m]\u001b[0m\u001b[1;33m.\u001b[0m\u001b[0magg\u001b[0m\u001b[1;33m(\u001b[0m\u001b[1;32mlambda\u001b[0m \u001b[0mx\u001b[0m\u001b[1;33m:\u001b[0m \u001b[0mx\u001b[0m\u001b[1;33m/\u001b[0m\u001b[0mnp\u001b[0m\u001b[1;33m.\u001b[0m\u001b[0mcumsum\u001b[0m\u001b[1;33m(\u001b[0m\u001b[1;33m[\u001b[0m\u001b[1;34m\"X2010\"\u001b[0m\u001b[1;33m,\u001b[0m\u001b[1;34m\"X2011\"\u001b[0m\u001b[1;33m,\u001b[0m\u001b[1;34m\"X2012\"\u001b[0m\u001b[1;33m]\u001b[0m\u001b[1;33m)\u001b[0m\u001b[1;33m)\u001b[0m\u001b[1;33m\u001b[0m\u001b[1;33m\u001b[0m\u001b[0m\n\u001b[0m",
      "\u001b[1;32m~\\anaconda3\\lib\\site-packages\\pandas\\core\\groupby\\generic.py\u001b[0m in \u001b[0;36maggregate\u001b[1;34m(self, func, *args, **kwargs)\u001b[0m\n\u001b[0;32m    934\u001b[0m             \u001b[1;31m# grouper specific aggregations\u001b[0m\u001b[1;33m\u001b[0m\u001b[1;33m\u001b[0m\u001b[1;33m\u001b[0m\u001b[0m\n\u001b[0;32m    935\u001b[0m             \u001b[1;32mif\u001b[0m \u001b[0mself\u001b[0m\u001b[1;33m.\u001b[0m\u001b[0mgrouper\u001b[0m\u001b[1;33m.\u001b[0m\u001b[0mnkeys\u001b[0m \u001b[1;33m>\u001b[0m \u001b[1;36m1\u001b[0m\u001b[1;33m:\u001b[0m\u001b[1;33m\u001b[0m\u001b[1;33m\u001b[0m\u001b[0m\n\u001b[1;32m--> 936\u001b[1;33m                 \u001b[1;32mreturn\u001b[0m \u001b[0mself\u001b[0m\u001b[1;33m.\u001b[0m\u001b[0m_python_agg_general\u001b[0m\u001b[1;33m(\u001b[0m\u001b[0mfunc\u001b[0m\u001b[1;33m,\u001b[0m \u001b[1;33m*\u001b[0m\u001b[0margs\u001b[0m\u001b[1;33m,\u001b[0m \u001b[1;33m**\u001b[0m\u001b[0mkwargs\u001b[0m\u001b[1;33m)\u001b[0m\u001b[1;33m\u001b[0m\u001b[1;33m\u001b[0m\u001b[0m\n\u001b[0m\u001b[0;32m    937\u001b[0m             \u001b[1;32melif\u001b[0m \u001b[0margs\u001b[0m \u001b[1;32mor\u001b[0m \u001b[0mkwargs\u001b[0m\u001b[1;33m:\u001b[0m\u001b[1;33m\u001b[0m\u001b[1;33m\u001b[0m\u001b[0m\n\u001b[0;32m    938\u001b[0m                 \u001b[0mresult\u001b[0m \u001b[1;33m=\u001b[0m \u001b[0mself\u001b[0m\u001b[1;33m.\u001b[0m\u001b[0m_aggregate_frame\u001b[0m\u001b[1;33m(\u001b[0m\u001b[0mfunc\u001b[0m\u001b[1;33m,\u001b[0m \u001b[1;33m*\u001b[0m\u001b[0margs\u001b[0m\u001b[1;33m,\u001b[0m \u001b[1;33m**\u001b[0m\u001b[0mkwargs\u001b[0m\u001b[1;33m)\u001b[0m\u001b[1;33m\u001b[0m\u001b[1;33m\u001b[0m\u001b[0m\n",
      "\u001b[1;32m~\\anaconda3\\lib\\site-packages\\pandas\\core\\groupby\\groupby.py\u001b[0m in \u001b[0;36m_python_agg_general\u001b[1;34m(self, func, *args, **kwargs)\u001b[0m\n\u001b[0;32m    934\u001b[0m \u001b[1;33m\u001b[0m\u001b[0m\n\u001b[0;32m    935\u001b[0m         \u001b[1;32mif\u001b[0m \u001b[0mlen\u001b[0m\u001b[1;33m(\u001b[0m\u001b[0moutput\u001b[0m\u001b[1;33m)\u001b[0m \u001b[1;33m==\u001b[0m \u001b[1;36m0\u001b[0m\u001b[1;33m:\u001b[0m\u001b[1;33m\u001b[0m\u001b[1;33m\u001b[0m\u001b[0m\n\u001b[1;32m--> 936\u001b[1;33m             \u001b[1;32mreturn\u001b[0m \u001b[0mself\u001b[0m\u001b[1;33m.\u001b[0m\u001b[0m_python_apply_general\u001b[0m\u001b[1;33m(\u001b[0m\u001b[0mf\u001b[0m\u001b[1;33m)\u001b[0m\u001b[1;33m\u001b[0m\u001b[1;33m\u001b[0m\u001b[0m\n\u001b[0m\u001b[0;32m    937\u001b[0m \u001b[1;33m\u001b[0m\u001b[0m\n\u001b[0;32m    938\u001b[0m         \u001b[1;32mif\u001b[0m \u001b[0mself\u001b[0m\u001b[1;33m.\u001b[0m\u001b[0mgrouper\u001b[0m\u001b[1;33m.\u001b[0m\u001b[0m_filter_empty_groups\u001b[0m\u001b[1;33m:\u001b[0m\u001b[1;33m\u001b[0m\u001b[1;33m\u001b[0m\u001b[0m\n",
      "\u001b[1;32m~\\anaconda3\\lib\\site-packages\\pandas\\core\\groupby\\groupby.py\u001b[0m in \u001b[0;36m_python_apply_general\u001b[1;34m(self, f)\u001b[0m\n\u001b[0;32m    750\u001b[0m \u001b[1;33m\u001b[0m\u001b[0m\n\u001b[0;32m    751\u001b[0m     \u001b[1;32mdef\u001b[0m \u001b[0m_python_apply_general\u001b[0m\u001b[1;33m(\u001b[0m\u001b[0mself\u001b[0m\u001b[1;33m,\u001b[0m \u001b[0mf\u001b[0m\u001b[1;33m)\u001b[0m\u001b[1;33m:\u001b[0m\u001b[1;33m\u001b[0m\u001b[1;33m\u001b[0m\u001b[0m\n\u001b[1;32m--> 752\u001b[1;33m         \u001b[0mkeys\u001b[0m\u001b[1;33m,\u001b[0m \u001b[0mvalues\u001b[0m\u001b[1;33m,\u001b[0m \u001b[0mmutated\u001b[0m \u001b[1;33m=\u001b[0m \u001b[0mself\u001b[0m\u001b[1;33m.\u001b[0m\u001b[0mgrouper\u001b[0m\u001b[1;33m.\u001b[0m\u001b[0mapply\u001b[0m\u001b[1;33m(\u001b[0m\u001b[0mf\u001b[0m\u001b[1;33m,\u001b[0m \u001b[0mself\u001b[0m\u001b[1;33m.\u001b[0m\u001b[0m_selected_obj\u001b[0m\u001b[1;33m,\u001b[0m \u001b[0mself\u001b[0m\u001b[1;33m.\u001b[0m\u001b[0maxis\u001b[0m\u001b[1;33m)\u001b[0m\u001b[1;33m\u001b[0m\u001b[1;33m\u001b[0m\u001b[0m\n\u001b[0m\u001b[0;32m    753\u001b[0m \u001b[1;33m\u001b[0m\u001b[0m\n\u001b[0;32m    754\u001b[0m         return self._wrap_applied_output(\n",
      "\u001b[1;32m~\\anaconda3\\lib\\site-packages\\pandas\\core\\groupby\\ops.py\u001b[0m in \u001b[0;36mapply\u001b[1;34m(self, f, data, axis)\u001b[0m\n\u001b[0;32m    204\u001b[0m             \u001b[1;31m# group might be modified\u001b[0m\u001b[1;33m\u001b[0m\u001b[1;33m\u001b[0m\u001b[1;33m\u001b[0m\u001b[0m\n\u001b[0;32m    205\u001b[0m             \u001b[0mgroup_axes\u001b[0m \u001b[1;33m=\u001b[0m \u001b[0mgroup\u001b[0m\u001b[1;33m.\u001b[0m\u001b[0maxes\u001b[0m\u001b[1;33m\u001b[0m\u001b[1;33m\u001b[0m\u001b[0m\n\u001b[1;32m--> 206\u001b[1;33m             \u001b[0mres\u001b[0m \u001b[1;33m=\u001b[0m \u001b[0mf\u001b[0m\u001b[1;33m(\u001b[0m\u001b[0mgroup\u001b[0m\u001b[1;33m)\u001b[0m\u001b[1;33m\u001b[0m\u001b[1;33m\u001b[0m\u001b[0m\n\u001b[0m\u001b[0;32m    207\u001b[0m             \u001b[1;32mif\u001b[0m \u001b[1;32mnot\u001b[0m \u001b[0m_is_indexed_like\u001b[0m\u001b[1;33m(\u001b[0m\u001b[0mres\u001b[0m\u001b[1;33m,\u001b[0m \u001b[0mgroup_axes\u001b[0m\u001b[1;33m)\u001b[0m\u001b[1;33m:\u001b[0m\u001b[1;33m\u001b[0m\u001b[1;33m\u001b[0m\u001b[0m\n\u001b[0;32m    208\u001b[0m                 \u001b[0mmutated\u001b[0m \u001b[1;33m=\u001b[0m \u001b[1;32mTrue\u001b[0m\u001b[1;33m\u001b[0m\u001b[1;33m\u001b[0m\u001b[0m\n",
      "\u001b[1;32m~\\anaconda3\\lib\\site-packages\\pandas\\core\\groupby\\groupby.py\u001b[0m in \u001b[0;36m<lambda>\u001b[1;34m(x)\u001b[0m\n\u001b[0;32m    912\u001b[0m     \u001b[1;32mdef\u001b[0m \u001b[0m_python_agg_general\u001b[0m\u001b[1;33m(\u001b[0m\u001b[0mself\u001b[0m\u001b[1;33m,\u001b[0m \u001b[0mfunc\u001b[0m\u001b[1;33m,\u001b[0m \u001b[1;33m*\u001b[0m\u001b[0margs\u001b[0m\u001b[1;33m,\u001b[0m \u001b[1;33m**\u001b[0m\u001b[0mkwargs\u001b[0m\u001b[1;33m)\u001b[0m\u001b[1;33m:\u001b[0m\u001b[1;33m\u001b[0m\u001b[1;33m\u001b[0m\u001b[0m\n\u001b[0;32m    913\u001b[0m         \u001b[0mfunc\u001b[0m \u001b[1;33m=\u001b[0m \u001b[0mself\u001b[0m\u001b[1;33m.\u001b[0m\u001b[0m_is_builtin_func\u001b[0m\u001b[1;33m(\u001b[0m\u001b[0mfunc\u001b[0m\u001b[1;33m)\u001b[0m\u001b[1;33m\u001b[0m\u001b[1;33m\u001b[0m\u001b[0m\n\u001b[1;32m--> 914\u001b[1;33m         \u001b[0mf\u001b[0m \u001b[1;33m=\u001b[0m \u001b[1;32mlambda\u001b[0m \u001b[0mx\u001b[0m\u001b[1;33m:\u001b[0m \u001b[0mfunc\u001b[0m\u001b[1;33m(\u001b[0m\u001b[0mx\u001b[0m\u001b[1;33m,\u001b[0m \u001b[1;33m*\u001b[0m\u001b[0margs\u001b[0m\u001b[1;33m,\u001b[0m \u001b[1;33m**\u001b[0m\u001b[0mkwargs\u001b[0m\u001b[1;33m)\u001b[0m\u001b[1;33m\u001b[0m\u001b[1;33m\u001b[0m\u001b[0m\n\u001b[0m\u001b[0;32m    915\u001b[0m \u001b[1;33m\u001b[0m\u001b[0m\n\u001b[0;32m    916\u001b[0m         \u001b[1;31m# iterate through \"columns\" ex exclusions to populate output dict\u001b[0m\u001b[1;33m\u001b[0m\u001b[1;33m\u001b[0m\u001b[1;33m\u001b[0m\u001b[0m\n",
      "\u001b[1;32m<ipython-input-73-86cdd9e7e2c2>\u001b[0m in \u001b[0;36m<lambda>\u001b[1;34m(x)\u001b[0m\n\u001b[1;32m----> 1\u001b[1;33m \u001b[0mdata\u001b[0m\u001b[1;33m.\u001b[0m\u001b[0mgroupby\u001b[0m\u001b[1;33m(\u001b[0m\u001b[1;33m[\u001b[0m\u001b[1;34m\"VARIABLE\"\u001b[0m\u001b[1;33m,\u001b[0m\u001b[1;34m\"MARCA\"\u001b[0m\u001b[1;33m]\u001b[0m\u001b[1;33m)\u001b[0m\u001b[1;33m[\u001b[0m\u001b[1;33m[\u001b[0m\u001b[1;34m\"X2010\"\u001b[0m\u001b[1;33m,\u001b[0m\u001b[1;34m\"X2011\"\u001b[0m\u001b[1;33m,\u001b[0m\u001b[1;34m\"X2012\"\u001b[0m\u001b[1;33m]\u001b[0m\u001b[1;33m]\u001b[0m\u001b[1;33m.\u001b[0m\u001b[0magg\u001b[0m\u001b[1;33m(\u001b[0m\u001b[1;32mlambda\u001b[0m \u001b[0mx\u001b[0m\u001b[1;33m:\u001b[0m \u001b[0mx\u001b[0m\u001b[1;33m/\u001b[0m\u001b[0mnp\u001b[0m\u001b[1;33m.\u001b[0m\u001b[0mcumsum\u001b[0m\u001b[1;33m(\u001b[0m\u001b[1;33m[\u001b[0m\u001b[1;34m\"X2010\"\u001b[0m\u001b[1;33m,\u001b[0m\u001b[1;34m\"X2011\"\u001b[0m\u001b[1;33m,\u001b[0m\u001b[1;34m\"X2012\"\u001b[0m\u001b[1;33m]\u001b[0m\u001b[1;33m)\u001b[0m\u001b[1;33m)\u001b[0m\u001b[1;33m\u001b[0m\u001b[1;33m\u001b[0m\u001b[0m\n\u001b[0m",
      "\u001b[1;32m<__array_function__ internals>\u001b[0m in \u001b[0;36mcumsum\u001b[1;34m(*args, **kwargs)\u001b[0m\n",
      "\u001b[1;32m~\\anaconda3\\lib\\site-packages\\numpy\\core\\fromnumeric.py\u001b[0m in \u001b[0;36mcumsum\u001b[1;34m(a, axis, dtype, out)\u001b[0m\n\u001b[0;32m   2468\u001b[0m \u001b[1;33m\u001b[0m\u001b[0m\n\u001b[0;32m   2469\u001b[0m     \"\"\"\n\u001b[1;32m-> 2470\u001b[1;33m     \u001b[1;32mreturn\u001b[0m \u001b[0m_wrapfunc\u001b[0m\u001b[1;33m(\u001b[0m\u001b[0ma\u001b[0m\u001b[1;33m,\u001b[0m \u001b[1;34m'cumsum'\u001b[0m\u001b[1;33m,\u001b[0m \u001b[0maxis\u001b[0m\u001b[1;33m=\u001b[0m\u001b[0maxis\u001b[0m\u001b[1;33m,\u001b[0m \u001b[0mdtype\u001b[0m\u001b[1;33m=\u001b[0m\u001b[0mdtype\u001b[0m\u001b[1;33m,\u001b[0m \u001b[0mout\u001b[0m\u001b[1;33m=\u001b[0m\u001b[0mout\u001b[0m\u001b[1;33m)\u001b[0m\u001b[1;33m\u001b[0m\u001b[1;33m\u001b[0m\u001b[0m\n\u001b[0m\u001b[0;32m   2471\u001b[0m \u001b[1;33m\u001b[0m\u001b[0m\n\u001b[0;32m   2472\u001b[0m \u001b[1;33m\u001b[0m\u001b[0m\n",
      "\u001b[1;32m~\\anaconda3\\lib\\site-packages\\numpy\\core\\fromnumeric.py\u001b[0m in \u001b[0;36m_wrapfunc\u001b[1;34m(obj, method, *args, **kwds)\u001b[0m\n\u001b[0;32m     56\u001b[0m     \u001b[0mbound\u001b[0m \u001b[1;33m=\u001b[0m \u001b[0mgetattr\u001b[0m\u001b[1;33m(\u001b[0m\u001b[0mobj\u001b[0m\u001b[1;33m,\u001b[0m \u001b[0mmethod\u001b[0m\u001b[1;33m,\u001b[0m \u001b[1;32mNone\u001b[0m\u001b[1;33m)\u001b[0m\u001b[1;33m\u001b[0m\u001b[1;33m\u001b[0m\u001b[0m\n\u001b[0;32m     57\u001b[0m     \u001b[1;32mif\u001b[0m \u001b[0mbound\u001b[0m \u001b[1;32mis\u001b[0m \u001b[1;32mNone\u001b[0m\u001b[1;33m:\u001b[0m\u001b[1;33m\u001b[0m\u001b[1;33m\u001b[0m\u001b[0m\n\u001b[1;32m---> 58\u001b[1;33m         \u001b[1;32mreturn\u001b[0m \u001b[0m_wrapit\u001b[0m\u001b[1;33m(\u001b[0m\u001b[0mobj\u001b[0m\u001b[1;33m,\u001b[0m \u001b[0mmethod\u001b[0m\u001b[1;33m,\u001b[0m \u001b[1;33m*\u001b[0m\u001b[0margs\u001b[0m\u001b[1;33m,\u001b[0m \u001b[1;33m**\u001b[0m\u001b[0mkwds\u001b[0m\u001b[1;33m)\u001b[0m\u001b[1;33m\u001b[0m\u001b[1;33m\u001b[0m\u001b[0m\n\u001b[0m\u001b[0;32m     59\u001b[0m \u001b[1;33m\u001b[0m\u001b[0m\n\u001b[0;32m     60\u001b[0m     \u001b[1;32mtry\u001b[0m\u001b[1;33m:\u001b[0m\u001b[1;33m\u001b[0m\u001b[1;33m\u001b[0m\u001b[0m\n",
      "\u001b[1;32m~\\anaconda3\\lib\\site-packages\\numpy\\core\\fromnumeric.py\u001b[0m in \u001b[0;36m_wrapit\u001b[1;34m(obj, method, *args, **kwds)\u001b[0m\n\u001b[0;32m     45\u001b[0m     \u001b[1;32mexcept\u001b[0m \u001b[0mAttributeError\u001b[0m\u001b[1;33m:\u001b[0m\u001b[1;33m\u001b[0m\u001b[1;33m\u001b[0m\u001b[0m\n\u001b[0;32m     46\u001b[0m         \u001b[0mwrap\u001b[0m \u001b[1;33m=\u001b[0m \u001b[1;32mNone\u001b[0m\u001b[1;33m\u001b[0m\u001b[1;33m\u001b[0m\u001b[0m\n\u001b[1;32m---> 47\u001b[1;33m     \u001b[0mresult\u001b[0m \u001b[1;33m=\u001b[0m \u001b[0mgetattr\u001b[0m\u001b[1;33m(\u001b[0m\u001b[0masarray\u001b[0m\u001b[1;33m(\u001b[0m\u001b[0mobj\u001b[0m\u001b[1;33m)\u001b[0m\u001b[1;33m,\u001b[0m \u001b[0mmethod\u001b[0m\u001b[1;33m)\u001b[0m\u001b[1;33m(\u001b[0m\u001b[1;33m*\u001b[0m\u001b[0margs\u001b[0m\u001b[1;33m,\u001b[0m \u001b[1;33m**\u001b[0m\u001b[0mkwds\u001b[0m\u001b[1;33m)\u001b[0m\u001b[1;33m\u001b[0m\u001b[1;33m\u001b[0m\u001b[0m\n\u001b[0m\u001b[0;32m     48\u001b[0m     \u001b[1;32mif\u001b[0m \u001b[0mwrap\u001b[0m\u001b[1;33m:\u001b[0m\u001b[1;33m\u001b[0m\u001b[1;33m\u001b[0m\u001b[0m\n\u001b[0;32m     49\u001b[0m         \u001b[1;32mif\u001b[0m \u001b[1;32mnot\u001b[0m \u001b[0misinstance\u001b[0m\u001b[1;33m(\u001b[0m\u001b[0mresult\u001b[0m\u001b[1;33m,\u001b[0m \u001b[0mmu\u001b[0m\u001b[1;33m.\u001b[0m\u001b[0mndarray\u001b[0m\u001b[1;33m)\u001b[0m\u001b[1;33m:\u001b[0m\u001b[1;33m\u001b[0m\u001b[1;33m\u001b[0m\u001b[0m\n",
      "\u001b[1;31mTypeError\u001b[0m: cannot perform accumulate with flexible type"
     ]
    }
   ],
   "source": []
  },
  {
   "cell_type": "code",
   "execution_count": 80,
   "metadata": {},
   "outputs": [
    {
     "data": {
      "text/html": [
       "<div>\n",
       "<style scoped>\n",
       "    .dataframe tbody tr th:only-of-type {\n",
       "        vertical-align: middle;\n",
       "    }\n",
       "\n",
       "    .dataframe tbody tr th {\n",
       "        vertical-align: top;\n",
       "    }\n",
       "\n",
       "    .dataframe thead th {\n",
       "        text-align: right;\n",
       "    }\n",
       "</style>\n",
       "<table border=\"1\" class=\"dataframe\">\n",
       "  <thead>\n",
       "    <tr style=\"text-align: right;\">\n",
       "      <th></th>\n",
       "      <th>MARCA</th>\n",
       "      <th>VARIABLE</th>\n",
       "      <th>X2010</th>\n",
       "      <th>X2011</th>\n",
       "      <th>X2012</th>\n",
       "      <th>percent</th>\n",
       "    </tr>\n",
       "  </thead>\n",
       "  <tbody>\n",
       "    <tr>\n",
       "      <th>0</th>\n",
       "      <td>Marca_3</td>\n",
       "      <td>If_I_had_the_opportunity_I_would_purchase_the_...</td>\n",
       "      <td>51.2416</td>\n",
       "      <td>57.9881</td>\n",
       "      <td>52.8320</td>\n",
       "      <td>9.137568e-07</td>\n",
       "    </tr>\n",
       "    <tr>\n",
       "      <th>1</th>\n",
       "      <td>Marca_2</td>\n",
       "      <td>If_I_had_the_opportunity_I_would_purchase_the_...</td>\n",
       "      <td>49.1080</td>\n",
       "      <td>51.7340</td>\n",
       "      <td>49.8815</td>\n",
       "      <td>8.757098e-07</td>\n",
       "    </tr>\n",
       "    <tr>\n",
       "      <th>2</th>\n",
       "      <td>Marca_6</td>\n",
       "      <td>If_I_had_the_opportunity_I_would_purchase_the_...</td>\n",
       "      <td>58.2505</td>\n",
       "      <td>60.0505</td>\n",
       "      <td>55.9710</td>\n",
       "      <td>1.038742e-06</td>\n",
       "    </tr>\n",
       "    <tr>\n",
       "      <th>3</th>\n",
       "      <td>Marca_1</td>\n",
       "      <td>If_I_had_the_opportunity_I_would_purchase_the_...</td>\n",
       "      <td>55.1765</td>\n",
       "      <td>59.2974</td>\n",
       "      <td>54.1031</td>\n",
       "      <td>9.839252e-07</td>\n",
       "    </tr>\n",
       "    <tr>\n",
       "      <th>4</th>\n",
       "      <td>Marca_5</td>\n",
       "      <td>If_I_had_the_opportunity_I_would_purchase_the_...</td>\n",
       "      <td>54.6310</td>\n",
       "      <td>62.9130</td>\n",
       "      <td>56.8392</td>\n",
       "      <td>9.741977e-07</td>\n",
       "    </tr>\n",
       "  </tbody>\n",
       "</table>\n",
       "</div>"
      ],
      "text/plain": [
       "     MARCA                                           VARIABLE    X2010  \\\n",
       "0  Marca_3  If_I_had_the_opportunity_I_would_purchase_the_...  51.2416   \n",
       "1  Marca_2  If_I_had_the_opportunity_I_would_purchase_the_...  49.1080   \n",
       "2  Marca_6  If_I_had_the_opportunity_I_would_purchase_the_...  58.2505   \n",
       "3  Marca_1  If_I_had_the_opportunity_I_would_purchase_the_...  55.1765   \n",
       "4  Marca_5  If_I_had_the_opportunity_I_would_purchase_the_...  54.6310   \n",
       "\n",
       "     X2011    X2012       percent  \n",
       "0  57.9881  52.8320  9.137568e-07  \n",
       "1  51.7340  49.8815  8.757098e-07  \n",
       "2  60.0505  55.9710  1.038742e-06  \n",
       "3  59.2974  54.1031  9.839252e-07  \n",
       "4  62.9130  56.8392  9.741977e-07  "
      ]
     },
     "execution_count": 80,
     "metadata": {},
     "output_type": "execute_result"
    }
   ],
   "source": [
    "data[\"percent\"] = (data['X2010'] / data['X2010'].sum())\n",
    "data.head()"
   ]
  },
  {
   "cell_type": "code",
   "execution_count": 86,
   "metadata": {},
   "outputs": [
    {
     "data": {
      "text/html": [
       "<div>\n",
       "<style scoped>\n",
       "    .dataframe tbody tr th:only-of-type {\n",
       "        vertical-align: middle;\n",
       "    }\n",
       "\n",
       "    .dataframe tbody tr th {\n",
       "        vertical-align: top;\n",
       "    }\n",
       "\n",
       "    .dataframe thead th {\n",
       "        text-align: right;\n",
       "    }\n",
       "</style>\n",
       "<table border=\"1\" class=\"dataframe\">\n",
       "  <thead>\n",
       "    <tr style=\"text-align: right;\">\n",
       "      <th></th>\n",
       "      <th></th>\n",
       "      <th>X2010</th>\n",
       "      <th>X2011</th>\n",
       "      <th>X2012</th>\n",
       "    </tr>\n",
       "    <tr>\n",
       "      <th>VARIABLE</th>\n",
       "      <th>MARCA</th>\n",
       "      <th></th>\n",
       "      <th></th>\n",
       "      <th></th>\n",
       "    </tr>\n",
       "  </thead>\n",
       "  <tbody>\n",
       "    <tr>\n",
       "      <th rowspan=\"5\" valign=\"top\">Acts_responsibly_to_protect_the_environment_Clientes</th>\n",
       "      <th>Marca_1</th>\n",
       "      <td>1.0</td>\n",
       "      <td>1.0</td>\n",
       "      <td>1.0</td>\n",
       "    </tr>\n",
       "    <tr>\n",
       "      <th>Marca_2</th>\n",
       "      <td>1.0</td>\n",
       "      <td>1.0</td>\n",
       "      <td>1.0</td>\n",
       "    </tr>\n",
       "    <tr>\n",
       "      <th>Marca_3</th>\n",
       "      <td>1.0</td>\n",
       "      <td>1.0</td>\n",
       "      <td>1.0</td>\n",
       "    </tr>\n",
       "    <tr>\n",
       "      <th>Marca_5</th>\n",
       "      <td>1.0</td>\n",
       "      <td>1.0</td>\n",
       "      <td>1.0</td>\n",
       "    </tr>\n",
       "    <tr>\n",
       "      <th>Marca_6</th>\n",
       "      <td>1.0</td>\n",
       "      <td>1.0</td>\n",
       "      <td>1.0</td>\n",
       "    </tr>\n",
       "    <tr>\n",
       "      <th>...</th>\n",
       "      <th>...</th>\n",
       "      <td>...</td>\n",
       "      <td>...</td>\n",
       "      <td>...</td>\n",
       "    </tr>\n",
       "    <tr>\n",
       "      <th rowspan=\"5\" valign=\"top\">The_number_of_additional_health_care_coverage_of_health_policy_is_sufficient_Publico_General</th>\n",
       "      <th>Marca_1</th>\n",
       "      <td>1.0</td>\n",
       "      <td>1.0</td>\n",
       "      <td>1.0</td>\n",
       "    </tr>\n",
       "    <tr>\n",
       "      <th>Marca_2</th>\n",
       "      <td>1.0</td>\n",
       "      <td>1.0</td>\n",
       "      <td>1.0</td>\n",
       "    </tr>\n",
       "    <tr>\n",
       "      <th>Marca_3</th>\n",
       "      <td>1.0</td>\n",
       "      <td>1.0</td>\n",
       "      <td>1.0</td>\n",
       "    </tr>\n",
       "    <tr>\n",
       "      <th>Marca_5</th>\n",
       "      <td>1.0</td>\n",
       "      <td>1.0</td>\n",
       "      <td>1.0</td>\n",
       "    </tr>\n",
       "    <tr>\n",
       "      <th>Marca_6</th>\n",
       "      <td>1.0</td>\n",
       "      <td>1.0</td>\n",
       "      <td>1.0</td>\n",
       "    </tr>\n",
       "  </tbody>\n",
       "</table>\n",
       "<p>380 rows × 3 columns</p>\n",
       "</div>"
      ],
      "text/plain": [
       "                                                            X2010  X2011  \\\n",
       "VARIABLE                                           MARCA                   \n",
       "Acts_responsibly_to_protect_the_environment_Cli... Marca_1    1.0    1.0   \n",
       "                                                   Marca_2    1.0    1.0   \n",
       "                                                   Marca_3    1.0    1.0   \n",
       "                                                   Marca_5    1.0    1.0   \n",
       "                                                   Marca_6    1.0    1.0   \n",
       "...                                                           ...    ...   \n",
       "The_number_of_additional_health_care_coverage_o... Marca_1    1.0    1.0   \n",
       "                                                   Marca_2    1.0    1.0   \n",
       "                                                   Marca_3    1.0    1.0   \n",
       "                                                   Marca_5    1.0    1.0   \n",
       "                                                   Marca_6    1.0    1.0   \n",
       "\n",
       "                                                            X2012  \n",
       "VARIABLE                                           MARCA           \n",
       "Acts_responsibly_to_protect_the_environment_Cli... Marca_1    1.0  \n",
       "                                                   Marca_2    1.0  \n",
       "                                                   Marca_3    1.0  \n",
       "                                                   Marca_5    1.0  \n",
       "                                                   Marca_6    1.0  \n",
       "...                                                           ...  \n",
       "The_number_of_additional_health_care_coverage_o... Marca_1    1.0  \n",
       "                                                   Marca_2    1.0  \n",
       "                                                   Marca_3    1.0  \n",
       "                                                   Marca_5    1.0  \n",
       "                                                   Marca_6    1.0  \n",
       "\n",
       "[380 rows x 3 columns]"
      ]
     },
     "execution_count": 86,
     "metadata": {},
     "output_type": "execute_result"
    }
   ],
   "source": [
    "data.groupby([\"VARIABLE\",\"MARCA\"])[[\"X2010\",\"X2011\",\"X2012\"]].agg({'X2010': lambda x: x/sum(x), 'X2011': lambda x: x/sum(x), 'X2012': lambda x: x/sum(x)})"
   ]
  },
  {
   "cell_type": "code",
   "execution_count": null,
   "metadata": {},
   "outputs": [],
   "source": [
    "df.groupby(df['City'])['isFraud'].agg({'X2010': lambda x: x/sum(x), 'X2011': lambda x: x/sum(x), 'X2012': lambda x: x/sum(x)})"
   ]
  }
 ],
 "metadata": {
  "kernelspec": {
   "display_name": "Python 3",
   "language": "python",
   "name": "python3"
  },
  "language_info": {
   "codemirror_mode": {
    "name": "ipython",
    "version": 3
   },
   "file_extension": ".py",
   "mimetype": "text/x-python",
   "name": "python",
   "nbconvert_exporter": "python",
   "pygments_lexer": "ipython3",
   "version": "3.8.3"
  }
 },
 "nbformat": 4,
 "nbformat_minor": 4
}
