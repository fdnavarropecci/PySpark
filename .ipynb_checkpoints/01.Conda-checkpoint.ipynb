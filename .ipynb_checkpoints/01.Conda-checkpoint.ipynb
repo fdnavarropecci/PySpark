{
 "cells": [
  {
   "cell_type": "markdown",
   "metadata": {},
   "source": [
    "## Primeros pasos usando Conda"
   ]
  },
  {
   "cell_type": "markdown",
   "metadata": {},
   "source": [
    "![](http://conda.io/docs/_images/conda_logo.svg)\n",
    "<br>\n",
    "<center>(https://conda.io)</center>"
   ]
  },
  {
   "cell_type": "markdown",
   "metadata": {},
   "source": [
    "> Package, dependency and environment management for any language—Python, R, Ruby, Lua, Scala, Java, JavaScript, C/ C++, FORTRAN"
   ]
  },
  {
   "cell_type": "markdown",
   "metadata": {},
   "source": [
    "Dentro del ecosistema Anaconda tenemos la aplicación `conda` que nos sirve para gestionar las versiones de python, paquetes dependencias y tener bien ordenador nuestros distintos proyectos."
   ]
  },
  {
   "cell_type": "code",
   "execution_count": null,
   "metadata": {},
   "outputs": [],
   "source": [
    "!conda info"
   ]
  },
  {
   "cell_type": "code",
   "execution_count": null,
   "metadata": {},
   "outputs": [],
   "source": [
    "!python --version"
   ]
  },
  {
   "cell_type": "markdown",
   "metadata": {},
   "source": [
    "### ¿Qué diferencia hay entre pip y conda?"
   ]
  },
  {
   "cell_type": "markdown",
   "metadata": {},
   "source": [
    "La gran diferencia es que pip solo está pensada para instalar paquetes de python y conda puede instalar también todas las dependencias necesarias para que una librería de python funcione correctemente (dependencias en C, FORTRAN...).\n",
    "\n",
    "De cualquier manera podemos usar pip también para instalar paquetes que no estén disponible en conda"
   ]
  },
  {
   "cell_type": "code",
   "execution_count": null,
   "metadata": {},
   "outputs": [],
   "source": [
    "!pip --version"
   ]
  },
  {
   "cell_type": "markdown",
   "metadata": {},
   "source": [
    "### Paquetes por defecto en la distribución Anaconda"
   ]
  },
  {
   "cell_type": "markdown",
   "metadata": {},
   "source": [
    "Al instalar Anaconda además de los paquetes básicos de python se instala una gran cantidad de paquetes. Esto hace que Anaconda sea una buena manera de empezar a trabajar con python. Podemos ver todos los paquetes instalados con:"
   ]
  },
  {
   "cell_type": "code",
   "execution_count": null,
   "metadata": {},
   "outputs": [],
   "source": [
    "!conda list | head -n 40"
   ]
  },
  {
   "cell_type": "markdown",
   "metadata": {},
   "source": [
    "Aunque para empezar puede estar muy bien tener muchos paquetes instalados, en proyectos de verdad lo mejor es solo tener instalado los paquetes necesarios para ese proyecto. Así evitamos dependencias innecesarios y es más fácil de mantener nuestro proyecto."
   ]
  },
  {
   "cell_type": "markdown",
   "metadata": {},
   "source": [
    "### Instalar nuevos paquetes"
   ]
  },
  {
   "cell_type": "markdown",
   "metadata": {},
   "source": [
    "Para instalar nuevos paquetes/librerías lo primero todo es saber como conda llama al paquete en cuestión. En geneal tienen el mismo nombre que la librería de python pero hay excepciones. Podemos buscar con `conda search` para encontrar los paquetes disponibles y sus versiones.\n",
    "\n",
    "Por ejemplo vamos a buscar por el paquete `pyarrow`:"
   ]
  },
  {
   "cell_type": "code",
   "execution_count": null,
   "metadata": {},
   "outputs": [],
   "source": [
    "!conda search pyarrow | tail"
   ]
  },
  {
   "cell_type": "markdown",
   "metadata": {},
   "source": [
    "y después instalamos el paquete con:"
   ]
  },
  {
   "cell_type": "code",
   "execution_count": null,
   "metadata": {},
   "outputs": [],
   "source": [
    "!conda install --yes pyarrow"
   ]
  },
  {
   "cell_type": "markdown",
   "metadata": {},
   "source": [
    "Por defecto conda busca los paquetes solo en los canales (*channels*) oficiales (son mantenidos por `continuum.io`).\n",
    "\n",
    "Existe un canal que manteiene la comunidad (menos garantías) que tiene multitud de paquetes extras:"
   ]
  },
  {
   "cell_type": "markdown",
   "metadata": {},
   "source": [
    "![](img/conda_forge.png)\n",
    "<center>(<a href=\"https://conda-forge.org/\">https://conda-forge.org/</a>)</center>"
   ]
  },
  {
   "cell_type": "markdown",
   "metadata": {},
   "source": [
    "Vamos a buscar el paquete `pyomo`:"
   ]
  },
  {
   "cell_type": "code",
   "execution_count": null,
   "metadata": {},
   "outputs": [],
   "source": [
    "!conda search pyomo | tail"
   ]
  },
  {
   "cell_type": "markdown",
   "metadata": {},
   "source": [
    "### Entornos de Conda"
   ]
  },
  {
   "cell_type": "markdown",
   "metadata": {},
   "source": [
    "Uno de los grandes problemas con los que se encuentra un desarrollador cuando empieza a tener más de un projecto es el problema de las versiones. Cada proyecto por su naturaleza, antiguedad, proposito... necesita tener unas versiones exactas de librerías y no siempre queremos tener la última version.\n",
    "\n",
    "Para solucionar estos problemas existen los entornos virtuales, en python tenemos la herramienta `virtualenv`"
   ]
  },
  {
   "cell_type": "code",
   "execution_count": null,
   "metadata": {},
   "outputs": [],
   "source": [
    "!virtualenv"
   ]
  },
  {
   "cell_type": "markdown",
   "metadata": {},
   "source": [
    "El problema de `virtualenv` al igual que `pip` es que solo está pensado para python y `conda` soporta más cosas (por ejemplo la versión de python del entorno)"
   ]
  },
  {
   "cell_type": "markdown",
   "metadata": {},
   "source": [
    "Podemos ver los entornos creados con conda con:"
   ]
  },
  {
   "cell_type": "code",
   "execution_count": null,
   "metadata": {},
   "outputs": [],
   "source": [
    "!conda env list | grep -i icai"
   ]
  },
  {
   "cell_type": "markdown",
   "metadata": {},
   "source": [
    "Podemos crear un entorno específico con:"
   ]
  },
  {
   "cell_type": "code",
   "execution_count": null,
   "metadata": {},
   "outputs": [],
   "source": [
    "!conda create --yes --name NUEVO_ICAI python=3.8"
   ]
  },
  {
   "cell_type": "code",
   "execution_count": null,
   "metadata": {},
   "outputs": [],
   "source": [
    "!conda list -n NUEVO_ICAI"
   ]
  },
  {
   "cell_type": "markdown",
   "metadata": {},
   "source": [
    "Conseguimos un entorno limpio de python sin ningún paquete extra instalado."
   ]
  }
 ],
 "metadata": {
  "kernelspec": {
   "display_name": "Python 3",
   "language": "python",
   "name": "python3"
  },
  "language_info": {
   "codemirror_mode": {
    "name": "ipython",
    "version": 3
   },
   "file_extension": ".py",
   "mimetype": "text/x-python",
   "name": "python",
   "nbconvert_exporter": "python",
   "pygments_lexer": "ipython3",
   "version": "3.7.6"
  }
 },
 "nbformat": 4,
 "nbformat_minor": 4
}
